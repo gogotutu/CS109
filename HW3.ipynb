{
 "cells": [
  {
   "cell_type": "code",
   "execution_count": 66,
   "metadata": {
    "collapsed": true
   },
   "outputs": [],
   "source": [
    "# special IPython command to prepare the notebook for matplotlib\n",
    "%matplotlib inline \n",
    "\n",
    "import requests \n",
    "import StringIO\n",
    "import zipfile\n",
    "import numpy as np\n",
    "import pandas as pd # pandas\n",
    "import matplotlib.pyplot as plt # module for plotting \n",
    "\n",
    "# If this module is not already installed, you may need to install it. \n",
    "# You can do this by typing 'pip install seaborn' in the command line\n",
    "import seaborn as sns \n",
    "\n",
    "import sklearn\n",
    "import sklearn.datasets\n",
    "import sklearn.cross_validation\n",
    "import sklearn.decomposition\n",
    "import sklearn.grid_search\n",
    "import sklearn.neighbors\n",
    "import sklearn.metrics"
   ]
  },
  {
   "cell_type": "code",
   "execution_count": 67,
   "metadata": {
    "collapsed": false
   },
   "outputs": [],
   "source": [
    "r = requests.get('http://seanlahman.com/files/database/lahman-csv_2014-02-14.zip').content"
   ]
  },
  {
   "cell_type": "code",
   "execution_count": 68,
   "metadata": {
    "collapsed": false
   },
   "outputs": [],
   "source": [
    "s = StringIO.StringIO(r)"
   ]
  },
  {
   "cell_type": "code",
   "execution_count": 69,
   "metadata": {
    "collapsed": false
   },
   "outputs": [],
   "source": [
    "zf = zipfile.ZipFile(s,'r')"
   ]
  },
  {
   "cell_type": "code",
   "execution_count": 70,
   "metadata": {
    "collapsed": true
   },
   "outputs": [],
   "source": [
    "tablenames = zf.namelist()"
   ]
  },
  {
   "cell_type": "code",
   "execution_count": 71,
   "metadata": {
    "collapsed": false
   },
   "outputs": [
    {
     "name": "stdout",
     "output_type": "stream",
     "text": [
      "['SchoolsPlayers.csv', 'SeriesPost.csv', 'Teams.csv', 'TeamsFranchises.csv', 'TeamsHalf.csv', 'AllstarFull.csv', 'Appearances.csv', 'AwardsManagers.csv', 'AwardsPlayers.csv', 'AwardsShareManagers.csv', 'AwardsSharePlayers.csv', 'Batting.csv', 'BattingPost.csv', 'Fielding.csv', 'FieldingOF.csv', 'FieldingPost.csv', 'HallOfFame.csv', 'Managers.csv', 'ManagersHalf.csv', 'Master.csv', 'Pitching.csv', 'PitchingPost.csv', 'readme2013.txt', 'Salaries.csv', 'Schools.csv']\n"
     ]
    }
   ],
   "source": [
    "print tablenames"
   ]
  },
  {
   "cell_type": "code",
   "execution_count": 72,
   "metadata": {
    "collapsed": false
   },
   "outputs": [],
   "source": [
    "teams = pd.read_csv(zf.open(tablenames[tablenames.index('Teams.csv')]))\n",
    "players = pd.read_csv(zf.open(tablenames[tablenames.index('Batting.csv')]))\n",
    "salaries = pd.read_csv(zf.open(tablenames[tablenames.index('Salaries.csv')]))\n",
    "fielding = pd.read_csv(zf.open(tablenames[tablenames.index('Fielding.csv')]))\n",
    "master = pd.read_csv(zf.open(tablenames[tablenames.index('Master.csv')]))"
   ]
  },
  {
   "cell_type": "code",
   "execution_count": 73,
   "metadata": {
    "collapsed": false
   },
   "outputs": [
    {
     "data": {
      "text/html": [
       "<div>\n",
       "<table border=\"1\" class=\"dataframe\">\n",
       "  <thead>\n",
       "    <tr style=\"text-align: right;\">\n",
       "      <th></th>\n",
       "      <th>salary</th>\n",
       "    </tr>\n",
       "    <tr>\n",
       "      <th>playerID</th>\n",
       "      <th></th>\n",
       "    </tr>\n",
       "  </thead>\n",
       "  <tbody>\n",
       "    <tr>\n",
       "      <th>aardsda01</th>\n",
       "      <td>419000</td>\n",
       "    </tr>\n",
       "    <tr>\n",
       "      <th>aasedo01</th>\n",
       "      <td>612500</td>\n",
       "    </tr>\n",
       "    <tr>\n",
       "      <th>abadan01</th>\n",
       "      <td>327000</td>\n",
       "    </tr>\n",
       "    <tr>\n",
       "      <th>abadfe01</th>\n",
       "      <td>451500</td>\n",
       "    </tr>\n",
       "    <tr>\n",
       "      <th>abbotje01</th>\n",
       "      <td>255000</td>\n",
       "    </tr>\n",
       "  </tbody>\n",
       "</table>\n",
       "</div>"
      ],
      "text/plain": [
       "           salary\n",
       "playerID         \n",
       "aardsda01  419000\n",
       "aasedo01   612500\n",
       "abadan01   327000\n",
       "abadfe01   451500\n",
       "abbotje01  255000"
      ]
     },
     "execution_count": 73,
     "metadata": {},
     "output_type": "execute_result"
    }
   ],
   "source": [
    "tmp_salaries = salaries.groupby('playerID')['playerID','salary'].median()\n",
    "tmp_salaries.head()"
   ]
  },
  {
   "cell_type": "code",
   "execution_count": 74,
   "metadata": {
    "collapsed": false
   },
   "outputs": [],
   "source": [
    "tmp_master = master[[\"playerID\", 'nameFirst', 'nameLast']]\n",
    "medianSalaries = tmp_master.merge(tmp_salaries, how = 'inner', right_index = True, left_on = 'playerID')"
   ]
  },
  {
   "cell_type": "code",
   "execution_count": 75,
   "metadata": {
    "collapsed": false
   },
   "outputs": [
    {
     "data": {
      "text/html": [
       "<div>\n",
       "<table border=\"1\" class=\"dataframe\">\n",
       "  <thead>\n",
       "    <tr style=\"text-align: right;\">\n",
       "      <th></th>\n",
       "      <th>playerID</th>\n",
       "      <th>nameFirst</th>\n",
       "      <th>nameLast</th>\n",
       "      <th>salary</th>\n",
       "    </tr>\n",
       "  </thead>\n",
       "  <tbody>\n",
       "    <tr>\n",
       "      <th>0</th>\n",
       "      <td>aardsda01</td>\n",
       "      <td>David</td>\n",
       "      <td>Aardsma</td>\n",
       "      <td>419000</td>\n",
       "    </tr>\n",
       "    <tr>\n",
       "      <th>3</th>\n",
       "      <td>aasedo01</td>\n",
       "      <td>Don</td>\n",
       "      <td>Aase</td>\n",
       "      <td>612500</td>\n",
       "    </tr>\n",
       "    <tr>\n",
       "      <th>4</th>\n",
       "      <td>abadan01</td>\n",
       "      <td>Andy</td>\n",
       "      <td>Abad</td>\n",
       "      <td>327000</td>\n",
       "    </tr>\n",
       "    <tr>\n",
       "      <th>5</th>\n",
       "      <td>abadfe01</td>\n",
       "      <td>Fernando</td>\n",
       "      <td>Abad</td>\n",
       "      <td>451500</td>\n",
       "    </tr>\n",
       "    <tr>\n",
       "      <th>13</th>\n",
       "      <td>abbotje01</td>\n",
       "      <td>Jeff</td>\n",
       "      <td>Abbott</td>\n",
       "      <td>255000</td>\n",
       "    </tr>\n",
       "  </tbody>\n",
       "</table>\n",
       "</div>"
      ],
      "text/plain": [
       "     playerID nameFirst nameLast  salary\n",
       "0   aardsda01     David  Aardsma  419000\n",
       "3    aasedo01       Don     Aase  612500\n",
       "4    abadan01      Andy     Abad  327000\n",
       "5    abadfe01  Fernando     Abad  451500\n",
       "13  abbotje01      Jeff   Abbott  255000"
      ]
     },
     "execution_count": 75,
     "metadata": {},
     "output_type": "execute_result"
    }
   ],
   "source": [
    "medianSalaries.head()"
   ]
  },
  {
   "cell_type": "code",
   "execution_count": 76,
   "metadata": {
    "collapsed": false
   },
   "outputs": [
    {
     "data": {
      "text/plain": [
       "Index([u'yearID', u'lgID', u'teamID', u'franchID', u'divID', u'Rank', u'G',\n",
       "       u'Ghome', u'W', u'L', u'DivWin', u'WCWin', u'LgWin', u'WSWin', u'R',\n",
       "       u'AB', u'H', u'2B', u'3B', u'HR', u'BB', u'SO', u'SB', u'CS', u'HBP',\n",
       "       u'SF', u'RA', u'ER', u'ERA', u'CG', u'SHO', u'SV', u'IPouts', u'HA',\n",
       "       u'HRA', u'BBA', u'SOA', u'E', u'DP', u'FP', u'name', u'park',\n",
       "       u'attendance', u'BPF', u'PPF', u'teamIDBR', u'teamIDlahman45',\n",
       "       u'teamIDretro'],\n",
       "      dtype='object')"
      ]
     },
     "execution_count": 76,
     "metadata": {},
     "output_type": "execute_result"
    }
   ],
   "source": [
    "teams.columns"
   ]
  },
  {
   "cell_type": "code",
   "execution_count": 77,
   "metadata": {
    "collapsed": false
   },
   "outputs": [
    {
     "data": {
      "text/html": [
       "<div>\n",
       "<table border=\"1\" class=\"dataframe\">\n",
       "  <thead>\n",
       "    <tr style=\"text-align: right;\">\n",
       "      <th></th>\n",
       "      <th>teamID</th>\n",
       "      <th>yearID</th>\n",
       "      <th>W</th>\n",
       "      <th>1B</th>\n",
       "      <th>2B</th>\n",
       "      <th>3B</th>\n",
       "      <th>HR</th>\n",
       "      <th>BB</th>\n",
       "    </tr>\n",
       "  </thead>\n",
       "  <tbody>\n",
       "    <tr>\n",
       "      <th>1366</th>\n",
       "      <td>LAA</td>\n",
       "      <td>1961</td>\n",
       "      <td>70</td>\n",
       "      <td>0.147748</td>\n",
       "      <td>0.035708</td>\n",
       "      <td>0.003604</td>\n",
       "      <td>0.030958</td>\n",
       "      <td>0.111548</td>\n",
       "    </tr>\n",
       "    <tr>\n",
       "      <th>1367</th>\n",
       "      <td>KC1</td>\n",
       "      <td>1961</td>\n",
       "      <td>61</td>\n",
       "      <td>0.164751</td>\n",
       "      <td>0.035982</td>\n",
       "      <td>0.007829</td>\n",
       "      <td>0.014993</td>\n",
       "      <td>0.096618</td>\n",
       "    </tr>\n",
       "    <tr>\n",
       "      <th>1377</th>\n",
       "      <td>NYA</td>\n",
       "      <td>1962</td>\n",
       "      <td>96</td>\n",
       "      <td>0.167148</td>\n",
       "      <td>0.038536</td>\n",
       "      <td>0.004656</td>\n",
       "      <td>0.031952</td>\n",
       "      <td>0.093770</td>\n",
       "    </tr>\n",
       "    <tr>\n",
       "      <th>1379</th>\n",
       "      <td>LAA</td>\n",
       "      <td>1962</td>\n",
       "      <td>86</td>\n",
       "      <td>0.159482</td>\n",
       "      <td>0.038027</td>\n",
       "      <td>0.005737</td>\n",
       "      <td>0.022455</td>\n",
       "      <td>0.098672</td>\n",
       "    </tr>\n",
       "    <tr>\n",
       "      <th>1381</th>\n",
       "      <td>CHA</td>\n",
       "      <td>1962</td>\n",
       "      <td>85</td>\n",
       "      <td>0.165797</td>\n",
       "      <td>0.040756</td>\n",
       "      <td>0.009129</td>\n",
       "      <td>0.014998</td>\n",
       "      <td>0.101076</td>\n",
       "    </tr>\n",
       "  </tbody>\n",
       "</table>\n",
       "</div>"
      ],
      "text/plain": [
       "     teamID  yearID   W        1B        2B        3B        HR        BB\n",
       "1366    LAA    1961  70  0.147748  0.035708  0.003604  0.030958  0.111548\n",
       "1367    KC1    1961  61  0.164751  0.035982  0.007829  0.014993  0.096618\n",
       "1377    NYA    1962  96  0.167148  0.038536  0.004656  0.031952  0.093770\n",
       "1379    LAA    1962  86  0.159482  0.038027  0.005737  0.022455  0.098672\n",
       "1381    CHA    1962  85  0.165797  0.040756  0.009129  0.014998  0.101076"
      ]
     },
     "execution_count": 77,
     "metadata": {},
     "output_type": "execute_result"
    }
   ],
   "source": [
    "filtered_teams = teams[(teams.yearID >= 1947) & (teams.G == 162)].copy()\n",
    "filtered_teams['PA'] = filtered_teams['AB'] + filtered_teams['BB']\n",
    "filtered_teams['1B'] = filtered_teams['H'] - filtered_teams['2B'] - filtered_teams['3B'] - filtered_teams['HR']\n",
    "stats = filtered_teams[['teamID','yearID','W']].copy()\n",
    "stats['1B'] = filtered_teams['1B'] / filtered_teams.PA\n",
    "stats['2B'] = filtered_teams['2B'] / filtered_teams.PA\n",
    "stats['3B'] = filtered_teams['3B'] / filtered_teams.PA\n",
    "stats['HR'] = filtered_teams['HR'] / filtered_teams.PA\n",
    "stats['BB'] = filtered_teams['BB'] / filtered_teams.PA\n",
    "stats.head()"
   ]
  },
  {
   "cell_type": "code",
   "execution_count": 78,
   "metadata": {
    "collapsed": false
   },
   "outputs": [
    {
     "data": {
      "text/plain": [
       "<matplotlib.collections.PathCollection at 0x1150ed490>"
      ]
     },
     "execution_count": 78,
     "metadata": {},
     "output_type": "execute_result"
    },
    {
     "data": {
      "image/png": "[encoded data removed]",
      "text/plain": [
       "<matplotlib.figure.Figure at 0x11b2aaf90>"
      ]
     },
     "metadata": {},
     "output_type": "display_data"
    }
   ],
   "source": [
    "plt.scatter(stats.yearID, stats['1B'], c = 'g', alpha = 0.5)"
   ]
  },
  {
   "cell_type": "code",
   "execution_count": 79,
   "metadata": {
    "collapsed": false
   },
   "outputs": [
    {
     "data": {
      "text/plain": [
       "<matplotlib.collections.PathCollection at 0x11820f310>"
      ]
     },
     "execution_count": 79,
     "metadata": {},
     "output_type": "execute_result"
    },
    {
     "data": {
      "image/png": "[encoded data removed]",
      "text/plain": [
       "<matplotlib.figure.Figure at 0x11b4a4a50>"
      ]
     },
     "metadata": {},
     "output_type": "display_data"
    }
   ],
   "source": [
    "plt.scatter(stats.yearID, stats['2B'], c = 'g', alpha = 0.5)"
   ]
  },
  {
   "cell_type": "code",
   "execution_count": 80,
   "metadata": {
    "collapsed": false
   },
   "outputs": [
    {
     "data": {
      "text/plain": [
       "<matplotlib.collections.PathCollection at 0x11831cd90>"
      ]
     },
     "execution_count": 80,
     "metadata": {},
     "output_type": "execute_result"
    },
    {
     "data": {
      "image/png": "[encoded data removed]",
      "text/plain": [
       "<matplotlib.figure.Figure at 0x11510f4d0>"
      ]
     },
     "metadata": {},
     "output_type": "display_data"
    }
   ],
   "source": [
    "plt.scatter(stats.yearID, stats['3B'], c = 'g', alpha = 0.5)"
   ]
  },
  {
   "cell_type": "code",
   "execution_count": 81,
   "metadata": {
    "collapsed": false
   },
   "outputs": [
    {
     "data": {
      "text/plain": [
       "<matplotlib.collections.PathCollection at 0x1183e3750>"
      ]
     },
     "execution_count": 81,
     "metadata": {},
     "output_type": "execute_result"
    },
    {
     "data": {
      "image/png": "[encoded data removed]",
      "text/plain": [
       "<matplotlib.figure.Figure at 0x118384fd0>"
      ]
     },
     "metadata": {},
     "output_type": "display_data"
    }
   ],
   "source": [
    "plt.scatter(stats.yearID, stats['HR'], c = 'g', alpha = 0.5)"
   ]
  },
  {
   "cell_type": "code",
   "execution_count": 82,
   "metadata": {
    "collapsed": false
   },
   "outputs": [
    {
     "data": {
      "text/plain": [
       "<matplotlib.text.Text at 0x1197a3190>"
      ]
     },
     "execution_count": 82,
     "metadata": {},
     "output_type": "execute_result"
    },
    {
     "data": {
      "image/png": "[encoded data removed]",
      "text/plain": [
       "<matplotlib.figure.Figure at 0x118364810>"
      ]
     },
     "metadata": {},
     "output_type": "display_data"
    }
   ],
   "source": [
    "plt.figure(figsize=(12,8), dpi = 50)\n",
    "plt.scatter(stats.yearID, stats['BB'], c = 'g', alpha = 0.5)\n",
    "plt.xlabel('Year',fontsize = 14)\n",
    "plt.xlim(1960, 2016)\n",
    "plt.xticks([1960,1970,1980,1990,2000,2010,2020],fontsize = 14)\n",
    "\n",
    "plt.ylabel('Rate',fontsize = 14)\n",
    "plt.ylim(0.05, 0.13)\n",
    "plt.yticks(fontsize = 14)\n",
    "plt.yticks([0.06,0.08,0.10,0.12],fontsize = 14)\n",
    "\n",
    "plt.title('BB per PA',fontsize = 14)"
   ]
  },
  {
   "cell_type": "code",
   "execution_count": 83,
   "metadata": {
    "collapsed": false
   },
   "outputs": [
    {
     "data": {
      "text/html": [
       "<div>\n",
       "<table border=\"1\" class=\"dataframe\">\n",
       "  <thead>\n",
       "    <tr style=\"text-align: right;\">\n",
       "      <th></th>\n",
       "      <th>W</th>\n",
       "      <th>1B</th>\n",
       "      <th>2B</th>\n",
       "      <th>3B</th>\n",
       "      <th>HR</th>\n",
       "      <th>BB</th>\n",
       "    </tr>\n",
       "    <tr>\n",
       "      <th>yearID</th>\n",
       "      <th></th>\n",
       "      <th></th>\n",
       "      <th></th>\n",
       "      <th></th>\n",
       "      <th></th>\n",
       "      <th></th>\n",
       "    </tr>\n",
       "  </thead>\n",
       "  <tbody>\n",
       "    <tr>\n",
       "      <th>1961</th>\n",
       "      <td>65.500000</td>\n",
       "      <td>0.156249</td>\n",
       "      <td>0.035845</td>\n",
       "      <td>0.005717</td>\n",
       "      <td>0.022975</td>\n",
       "      <td>0.104083</td>\n",
       "    </tr>\n",
       "    <tr>\n",
       "      <th>1962</th>\n",
       "      <td>78.454545</td>\n",
       "      <td>0.165632</td>\n",
       "      <td>0.035853</td>\n",
       "      <td>0.006777</td>\n",
       "      <td>0.023811</td>\n",
       "      <td>0.088590</td>\n",
       "    </tr>\n",
       "    <tr>\n",
       "      <th>1963</th>\n",
       "      <td>78.142857</td>\n",
       "      <td>0.162467</td>\n",
       "      <td>0.034020</td>\n",
       "      <td>0.006896</td>\n",
       "      <td>0.021254</td>\n",
       "      <td>0.080336</td>\n",
       "    </tr>\n",
       "    <tr>\n",
       "      <th>1964</th>\n",
       "      <td>81.727273</td>\n",
       "      <td>0.167251</td>\n",
       "      <td>0.036336</td>\n",
       "      <td>0.006748</td>\n",
       "      <td>0.021548</td>\n",
       "      <td>0.079152</td>\n",
       "    </tr>\n",
       "    <tr>\n",
       "      <th>1965</th>\n",
       "      <td>82.000000</td>\n",
       "      <td>0.160042</td>\n",
       "      <td>0.035539</td>\n",
       "      <td>0.006534</td>\n",
       "      <td>0.022693</td>\n",
       "      <td>0.085745</td>\n",
       "    </tr>\n",
       "  </tbody>\n",
       "</table>\n",
       "</div>"
      ],
      "text/plain": [
       "                W        1B        2B        3B        HR        BB\n",
       "yearID                                                             \n",
       "1961    65.500000  0.156249  0.035845  0.005717  0.022975  0.104083\n",
       "1962    78.454545  0.165632  0.035853  0.006777  0.023811  0.088590\n",
       "1963    78.142857  0.162467  0.034020  0.006896  0.021254  0.080336\n",
       "1964    81.727273  0.167251  0.036336  0.006748  0.021548  0.079152\n",
       "1965    82.000000  0.160042  0.035539  0.006534  0.022693  0.085745"
      ]
     },
     "execution_count": 83,
     "metadata": {},
     "output_type": "execute_result"
    }
   ],
   "source": [
    "stats.groupby('yearID').mean().head()"
   ]
  },
  {
   "cell_type": "code",
   "execution_count": 84,
   "metadata": {
    "collapsed": false
   },
   "outputs": [],
   "source": [
    "def MeanNormalize(df):\n",
    "    subdf = df[['1B','2B','3B','HR','BB']]\n",
    "    df[['1B','2B','3B','HR','BB']] = subdf - subdf.mean()\n",
    "    return df"
   ]
  },
  {
   "cell_type": "code",
   "execution_count": 85,
   "metadata": {
    "collapsed": false
   },
   "outputs": [],
   "source": [
    "stats = stats.groupby('yearID').apply(MeanNormalize)"
   ]
  },
  {
   "cell_type": "code",
   "execution_count": 86,
   "metadata": {
    "collapsed": false
   },
   "outputs": [],
   "source": [
    "from sklearn import linear_model\n",
    "clf = linear_model.LinearRegression()"
   ]
  },
  {
   "cell_type": "code",
   "execution_count": 87,
   "metadata": {
    "collapsed": false
   },
   "outputs": [
    {
     "name": "stdout",
     "output_type": "stream",
     "text": [
      "Mean squared error: 83.82\n"
     ]
    }
   ],
   "source": [
    "stat_train = stats[stats.yearID < 2002]\n",
    "stat_test = stats[stats.yearID >= 2002]\n",
    "\n",
    "XX_train = stat_train[['1B','2B','3B','HR','BB']]\n",
    "XX_test  = stat_test[['1B','2B','3B','HR','BB']]\n",
    "\n",
    "YY_train = stat_train.W\n",
    "YY_test  = stat_test.W\n",
    "\n",
    "clf.fit(XX_train, YY_train)\n",
    "clf.coef_\n",
    "\n",
    "print(\"Mean squared error: %.2f\" % np.mean((YY_test - clf.predict(XX_test)) ** 2))"
   ]
  },
  {
   "cell_type": "code",
   "execution_count": 88,
   "metadata": {
    "collapsed": false
   },
   "outputs": [],
   "source": [
    "sub_players = players[(players.yearID > 1947) & (players['AB']+players['BB'] > 500)]"
   ]
  },
  {
   "cell_type": "code",
   "execution_count": 89,
   "metadata": {
    "collapsed": false
   },
   "outputs": [],
   "source": [
    "sub_players = sub_players[['playerID','yearID','AB','H','2B','3B','HR','BB']]"
   ]
  },
  {
   "cell_type": "code",
   "execution_count": 90,
   "metadata": {
    "collapsed": false
   },
   "outputs": [],
   "source": [
    "sub_players['1B'] = sub_players['H'] - sub_players['2B'] - sub_players['3B'] - sub_players['HR']\n",
    "sub_players['PA'] = sub_players['AB'] + sub_players['BB']"
   ]
  },
  {
   "cell_type": "code",
   "execution_count": 91,
   "metadata": {
    "collapsed": false
   },
   "outputs": [],
   "source": [
    "sub_players['1B'] = sub_players['1B']/sub_players['PA']\n",
    "sub_players['2B'] = sub_players['2B']/sub_players['PA']\n",
    "sub_players['3B'] = sub_players['3B']/sub_players['PA']\n",
    "sub_players['HR'] = sub_players['HR']/sub_players['PA']\n",
    "sub_players['BB'] = sub_players['BB']/sub_players['PA']"
   ]
  },
  {
   "cell_type": "code",
   "execution_count": 92,
   "metadata": {
    "collapsed": false
   },
   "outputs": [],
   "source": [
    "players_stat = sub_players[['playerID','yearID','1B','2B','3B','HR','BB']]"
   ]
  },
  {
   "cell_type": "code",
   "execution_count": 93,
   "metadata": {
    "collapsed": false
   },
   "outputs": [],
   "source": [
    "playerstats = players_stat.groupby('yearID').apply(MeanNormalize)"
   ]
  },
  {
   "cell_type": "code",
   "execution_count": 94,
   "metadata": {
    "collapsed": true
   },
   "outputs": [],
   "source": [
    "def MeanNormalizeLS(df):\n",
    "    df = df[['1B','2B','3B','HR','BB']].mean()\n",
    "    return df"
   ]
  },
  {
   "cell_type": "code",
   "execution_count": 95,
   "metadata": {
    "collapsed": true
   },
   "outputs": [],
   "source": [
    "playerLS = playerstats.groupby(\"playerID\").apply(MeanNormalizeLS).reset_index()"
   ]
  },
  {
   "cell_type": "code",
   "execution_count": 96,
   "metadata": {
    "collapsed": false
   },
   "outputs": [],
   "source": [
    "playerLS = master[[\"playerID\",\"debut\",\"finalGame\"]].merge(playerLS, how = \"inner\", on = \"playerID\")"
   ]
  },
  {
   "cell_type": "code",
   "execution_count": 97,
   "metadata": {
    "collapsed": false
   },
   "outputs": [
    {
     "data": {
      "text/html": [
       "<div>\n",
       "<table border=\"1\" class=\"dataframe\">\n",
       "  <thead>\n",
       "    <tr style=\"text-align: right;\">\n",
       "      <th></th>\n",
       "      <th>playerID</th>\n",
       "      <th>debut</th>\n",
       "      <th>finalGame</th>\n",
       "      <th>1B</th>\n",
       "      <th>2B</th>\n",
       "      <th>3B</th>\n",
       "      <th>HR</th>\n",
       "      <th>BB</th>\n",
       "    </tr>\n",
       "  </thead>\n",
       "  <tbody>\n",
       "    <tr>\n",
       "      <th>0</th>\n",
       "      <td>aaronha01</td>\n",
       "      <td>1954-04-13</td>\n",
       "      <td>1976-10-03</td>\n",
       "      <td>-0.007157</td>\n",
       "      <td>0.006539</td>\n",
       "      <td>-0.000270</td>\n",
       "      <td>0.027850</td>\n",
       "      <td>0.009447</td>\n",
       "    </tr>\n",
       "    <tr>\n",
       "      <th>1</th>\n",
       "      <td>abramca01</td>\n",
       "      <td>1949-04-20</td>\n",
       "      <td>1956-05-09</td>\n",
       "      <td>0.013463</td>\n",
       "      <td>-0.023915</td>\n",
       "      <td>0.002384</td>\n",
       "      <td>0.003842</td>\n",
       "      <td>0.019455</td>\n",
       "    </tr>\n",
       "    <tr>\n",
       "      <th>2</th>\n",
       "      <td>abreubo01</td>\n",
       "      <td>1996-09-01</td>\n",
       "      <td>2012-10-02</td>\n",
       "      <td>-0.008202</td>\n",
       "      <td>0.006421</td>\n",
       "      <td>0.001002</td>\n",
       "      <td>-0.003252</td>\n",
       "      <td>0.050501</td>\n",
       "    </tr>\n",
       "    <tr>\n",
       "      <th>3</th>\n",
       "      <td>ackledu01</td>\n",
       "      <td>2011-06-17</td>\n",
       "      <td>2013-09-29</td>\n",
       "      <td>-0.009270</td>\n",
       "      <td>-0.016605</td>\n",
       "      <td>-0.001974</td>\n",
       "      <td>-0.015274</td>\n",
       "      <td>0.001597</td>\n",
       "    </tr>\n",
       "    <tr>\n",
       "      <th>4</th>\n",
       "      <td>adairje01</td>\n",
       "      <td>1958-09-02</td>\n",
       "      <td>1970-05-03</td>\n",
       "      <td>0.011933</td>\n",
       "      <td>0.003286</td>\n",
       "      <td>-0.002139</td>\n",
       "      <td>-0.012934</td>\n",
       "      <td>-0.037229</td>\n",
       "    </tr>\n",
       "  </tbody>\n",
       "</table>\n",
       "</div>"
      ],
      "text/plain": [
       "    playerID       debut   finalGame        1B        2B        3B        HR  \\\n",
       "0  aaronha01  1954-04-13  1976-10-03 -0.007157  0.006539 -0.000270  0.027850   \n",
       "1  abramca01  1949-04-20  1956-05-09  0.013463 -0.023915  0.002384  0.003842   \n",
       "2  abreubo01  1996-09-01  2012-10-02 -0.008202  0.006421  0.001002 -0.003252   \n",
       "3  ackledu01  2011-06-17  2013-09-29 -0.009270 -0.016605 -0.001974 -0.015274   \n",
       "4  adairje01  1958-09-02  1970-05-03  0.011933  0.003286 -0.002139 -0.012934   \n",
       "\n",
       "         BB  \n",
       "0  0.009447  \n",
       "1  0.019455  \n",
       "2  0.050501  \n",
       "3  0.001597  \n",
       "4 -0.037229  "
      ]
     },
     "execution_count": 97,
     "metadata": {},
     "output_type": "execute_result"
    }
   ],
   "source": [
    "playerLS.head()"
   ]
  },
  {
   "cell_type": "code",
   "execution_count": 98,
   "metadata": {
    "collapsed": false
   },
   "outputs": [],
   "source": [
    "def getYear(s):\n",
    "    return int(s[0:4])\n",
    "playerLS['debut'] = playerLS['debut'].apply(getYear)\n",
    "playerLS['finalGame'] = playerLS['finalGame'].apply(getYear)"
   ]
  },
  {
   "cell_type": "code",
   "execution_count": 99,
   "metadata": {
    "collapsed": false
   },
   "outputs": [],
   "source": [
    "cols = list(playerLS.columns)"
   ]
  },
  {
   "cell_type": "code",
   "execution_count": 100,
   "metadata": {
    "collapsed": false
   },
   "outputs": [],
   "source": [
    "cols[1:3] = [\"minYear\",\"maxYear\"]"
   ]
  },
  {
   "cell_type": "code",
   "execution_count": 101,
   "metadata": {
    "collapsed": false
   },
   "outputs": [],
   "source": [
    "playerLS.columns = cols"
   ]
  },
  {
   "cell_type": "code",
   "execution_count": 102,
   "metadata": {
    "collapsed": false
   },
   "outputs": [
    {
     "data": {
      "text/html": [
       "<div>\n",
       "<table border=\"1\" class=\"dataframe\">\n",
       "  <thead>\n",
       "    <tr style=\"text-align: right;\">\n",
       "      <th></th>\n",
       "      <th>playerID</th>\n",
       "      <th>minYear</th>\n",
       "      <th>maxYear</th>\n",
       "      <th>1B</th>\n",
       "      <th>2B</th>\n",
       "      <th>3B</th>\n",
       "      <th>HR</th>\n",
       "      <th>BB</th>\n",
       "    </tr>\n",
       "  </thead>\n",
       "  <tbody>\n",
       "    <tr>\n",
       "      <th>0</th>\n",
       "      <td>aaronha01</td>\n",
       "      <td>1954</td>\n",
       "      <td>1976</td>\n",
       "      <td>-0.007157</td>\n",
       "      <td>0.006539</td>\n",
       "      <td>-0.000270</td>\n",
       "      <td>0.027850</td>\n",
       "      <td>0.009447</td>\n",
       "    </tr>\n",
       "    <tr>\n",
       "      <th>1</th>\n",
       "      <td>abramca01</td>\n",
       "      <td>1949</td>\n",
       "      <td>1956</td>\n",
       "      <td>0.013463</td>\n",
       "      <td>-0.023915</td>\n",
       "      <td>0.002384</td>\n",
       "      <td>0.003842</td>\n",
       "      <td>0.019455</td>\n",
       "    </tr>\n",
       "    <tr>\n",
       "      <th>2</th>\n",
       "      <td>abreubo01</td>\n",
       "      <td>1996</td>\n",
       "      <td>2012</td>\n",
       "      <td>-0.008202</td>\n",
       "      <td>0.006421</td>\n",
       "      <td>0.001002</td>\n",
       "      <td>-0.003252</td>\n",
       "      <td>0.050501</td>\n",
       "    </tr>\n",
       "    <tr>\n",
       "      <th>3</th>\n",
       "      <td>ackledu01</td>\n",
       "      <td>2011</td>\n",
       "      <td>2013</td>\n",
       "      <td>-0.009270</td>\n",
       "      <td>-0.016605</td>\n",
       "      <td>-0.001974</td>\n",
       "      <td>-0.015274</td>\n",
       "      <td>0.001597</td>\n",
       "    </tr>\n",
       "    <tr>\n",
       "      <th>4</th>\n",
       "      <td>adairje01</td>\n",
       "      <td>1958</td>\n",
       "      <td>1970</td>\n",
       "      <td>0.011933</td>\n",
       "      <td>0.003286</td>\n",
       "      <td>-0.002139</td>\n",
       "      <td>-0.012934</td>\n",
       "      <td>-0.037229</td>\n",
       "    </tr>\n",
       "  </tbody>\n",
       "</table>\n",
       "</div>"
      ],
      "text/plain": [
       "    playerID  minYear  maxYear        1B        2B        3B        HR  \\\n",
       "0  aaronha01     1954     1976 -0.007157  0.006539 -0.000270  0.027850   \n",
       "1  abramca01     1949     1956  0.013463 -0.023915  0.002384  0.003842   \n",
       "2  abreubo01     1996     2012 -0.008202  0.006421  0.001002 -0.003252   \n",
       "3  ackledu01     2011     2013 -0.009270 -0.016605 -0.001974 -0.015274   \n",
       "4  adairje01     1958     1970  0.011933  0.003286 -0.002139 -0.012934   \n",
       "\n",
       "         BB  \n",
       "0  0.009447  \n",
       "1  0.019455  \n",
       "2  0.050501  \n",
       "3  0.001597  \n",
       "4 -0.037229  "
      ]
     },
     "execution_count": 102,
     "metadata": {},
     "output_type": "execute_result"
    }
   ],
   "source": [
    "playerLS.head()"
   ]
  },
  {
   "cell_type": "code",
   "execution_count": 103,
   "metadata": {
    "collapsed": false
   },
   "outputs": [],
   "source": [
    "avgRates = playerLS[[\"1B\",\"2B\",\"3B\",\"HR\",\"BB\"]].values"
   ]
  },
  {
   "cell_type": "code",
   "execution_count": 104,
   "metadata": {
    "collapsed": false
   },
   "outputs": [],
   "source": [
    "playerLS[\"OPW\"] = clf.predict(avgRates)"
   ]
  },
  {
   "cell_type": "code",
   "execution_count": 105,
   "metadata": {
    "collapsed": false
   },
   "outputs": [],
   "source": [
    "playerLS = playerLS.merge(medianSalaries, how = \"inner\", on = \"playerID\")"
   ]
  },
  {
   "cell_type": "code",
   "execution_count": 106,
   "metadata": {
    "collapsed": false
   },
   "outputs": [],
   "source": [
    "sub_fielding = fielding[['playerID','POS']].copy()"
   ]
  },
  {
   "cell_type": "code",
   "execution_count": 107,
   "metadata": {
    "collapsed": false
   },
   "outputs": [],
   "source": [
    "sub_fielding['Counter'] = 1\n",
    "positions = sub_fielding.groupby(['playerID','POS'])['Counter'].sum()"
   ]
  },
  {
   "cell_type": "code",
   "execution_count": 108,
   "metadata": {
    "collapsed": false
   },
   "outputs": [],
   "source": [
    "positions = pd.DataFrame(positions).reset_index()"
   ]
  },
  {
   "cell_type": "code",
   "execution_count": 109,
   "metadata": {
    "collapsed": false
   },
   "outputs": [],
   "source": [
    "which = positions.groupby('playerID')['Counter'].idxmax()"
   ]
  },
  {
   "cell_type": "code",
   "execution_count": 110,
   "metadata": {
    "collapsed": false
   },
   "outputs": [],
   "source": [
    "pos = positions.iloc[which,:]"
   ]
  },
  {
   "cell_type": "code",
   "execution_count": 111,
   "metadata": {
    "collapsed": false
   },
   "outputs": [
    {
     "data": {
      "text/html": [
       "<div>\n",
       "<table border=\"1\" class=\"dataframe\">\n",
       "  <thead>\n",
       "    <tr style=\"text-align: right;\">\n",
       "      <th></th>\n",
       "      <th>playerID</th>\n",
       "      <th>POS</th>\n",
       "      <th>Counter</th>\n",
       "    </tr>\n",
       "  </thead>\n",
       "  <tbody>\n",
       "    <tr>\n",
       "      <th>0</th>\n",
       "      <td>aardsda01</td>\n",
       "      <td>P</td>\n",
       "      <td>8</td>\n",
       "    </tr>\n",
       "    <tr>\n",
       "      <th>7</th>\n",
       "      <td>aaronha01</td>\n",
       "      <td>OF</td>\n",
       "      <td>23</td>\n",
       "    </tr>\n",
       "    <tr>\n",
       "      <th>9</th>\n",
       "      <td>aaronto01</td>\n",
       "      <td>1B</td>\n",
       "      <td>7</td>\n",
       "    </tr>\n",
       "    <tr>\n",
       "      <th>16</th>\n",
       "      <td>aasedo01</td>\n",
       "      <td>P</td>\n",
       "      <td>13</td>\n",
       "    </tr>\n",
       "    <tr>\n",
       "      <th>17</th>\n",
       "      <td>abadan01</td>\n",
       "      <td>1B</td>\n",
       "      <td>2</td>\n",
       "    </tr>\n",
       "  </tbody>\n",
       "</table>\n",
       "</div>"
      ],
      "text/plain": [
       "     playerID POS  Counter\n",
       "0   aardsda01   P        8\n",
       "7   aaronha01  OF       23\n",
       "9   aaronto01  1B        7\n",
       "16   aasedo01   P       13\n",
       "17   abadan01  1B        2"
      ]
     },
     "execution_count": 111,
     "metadata": {},
     "output_type": "execute_result"
    }
   ],
   "source": [
    "pos.head()"
   ]
  },
  {
   "cell_type": "code",
   "execution_count": 112,
   "metadata": {
    "collapsed": false
   },
   "outputs": [
    {
     "data": {
      "text/html": [
       "<div>\n",
       "<table border=\"1\" class=\"dataframe\">\n",
       "  <thead>\n",
       "    <tr style=\"text-align: right;\">\n",
       "      <th></th>\n",
       "      <th>playerID</th>\n",
       "      <th>POS</th>\n",
       "      <th>minYear</th>\n",
       "      <th>maxYear</th>\n",
       "      <th>1B</th>\n",
       "      <th>2B</th>\n",
       "      <th>3B</th>\n",
       "      <th>HR</th>\n",
       "      <th>BB</th>\n",
       "      <th>OPW</th>\n",
       "      <th>nameFirst</th>\n",
       "      <th>nameLast</th>\n",
       "      <th>salary</th>\n",
       "    </tr>\n",
       "  </thead>\n",
       "  <tbody>\n",
       "    <tr>\n",
       "      <th>0</th>\n",
       "      <td>abreubo01</td>\n",
       "      <td>RF</td>\n",
       "      <td>1996</td>\n",
       "      <td>2012</td>\n",
       "      <td>-0.008202</td>\n",
       "      <td>0.006421</td>\n",
       "      <td>0.001002</td>\n",
       "      <td>-0.003252</td>\n",
       "      <td>0.050501</td>\n",
       "      <td>104.050008</td>\n",
       "      <td>Bobby</td>\n",
       "      <td>Abreu</td>\n",
       "      <td>9000000</td>\n",
       "    </tr>\n",
       "    <tr>\n",
       "      <th>1</th>\n",
       "      <td>ackledu01</td>\n",
       "      <td>1B</td>\n",
       "      <td>2011</td>\n",
       "      <td>2013</td>\n",
       "      <td>-0.009270</td>\n",
       "      <td>-0.016605</td>\n",
       "      <td>-0.001974</td>\n",
       "      <td>-0.015274</td>\n",
       "      <td>0.001597</td>\n",
       "      <td>53.806003</td>\n",
       "      <td>Dustin</td>\n",
       "      <td>Ackley</td>\n",
       "      <td>2400000</td>\n",
       "    </tr>\n",
       "    <tr>\n",
       "      <th>2</th>\n",
       "      <td>adamsru01</td>\n",
       "      <td>SS</td>\n",
       "      <td>2004</td>\n",
       "      <td>2009</td>\n",
       "      <td>-0.007867</td>\n",
       "      <td>-0.001289</td>\n",
       "      <td>0.004160</td>\n",
       "      <td>-0.017533</td>\n",
       "      <td>0.002672</td>\n",
       "      <td>67.496507</td>\n",
       "      <td>Russ</td>\n",
       "      <td>Adams</td>\n",
       "      <td>329500</td>\n",
       "    </tr>\n",
       "    <tr>\n",
       "      <th>3</th>\n",
       "      <td>alfoned01</td>\n",
       "      <td>2B</td>\n",
       "      <td>1995</td>\n",
       "      <td>2006</td>\n",
       "      <td>0.013485</td>\n",
       "      <td>-0.002177</td>\n",
       "      <td>-0.003239</td>\n",
       "      <td>-0.006436</td>\n",
       "      <td>0.010745</td>\n",
       "      <td>83.404437</td>\n",
       "      <td>Edgardo</td>\n",
       "      <td>Alfonzo</td>\n",
       "      <td>4112500</td>\n",
       "    </tr>\n",
       "    <tr>\n",
       "      <th>4</th>\n",
       "      <td>alicelu01</td>\n",
       "      <td>2B</td>\n",
       "      <td>1988</td>\n",
       "      <td>2002</td>\n",
       "      <td>0.035625</td>\n",
       "      <td>-0.009597</td>\n",
       "      <td>0.007988</td>\n",
       "      <td>-0.026156</td>\n",
       "      <td>-0.006580</td>\n",
       "      <td>78.561778</td>\n",
       "      <td>Luis</td>\n",
       "      <td>Alicea</td>\n",
       "      <td>750000</td>\n",
       "    </tr>\n",
       "  </tbody>\n",
       "</table>\n",
       "</div>"
      ],
      "text/plain": [
       "    playerID POS  minYear  maxYear        1B        2B        3B        HR  \\\n",
       "0  abreubo01  RF     1996     2012 -0.008202  0.006421  0.001002 -0.003252   \n",
       "1  ackledu01  1B     2011     2013 -0.009270 -0.016605 -0.001974 -0.015274   \n",
       "2  adamsru01  SS     2004     2009 -0.007867 -0.001289  0.004160 -0.017533   \n",
       "3  alfoned01  2B     1995     2006  0.013485 -0.002177 -0.003239 -0.006436   \n",
       "4  alicelu01  2B     1988     2002  0.035625 -0.009597  0.007988 -0.026156   \n",
       "\n",
       "         BB         OPW nameFirst nameLast   salary  \n",
       "0  0.050501  104.050008     Bobby    Abreu  9000000  \n",
       "1  0.001597   53.806003    Dustin   Ackley  2400000  \n",
       "2  0.002672   67.496507      Russ    Adams   329500  \n",
       "3  0.010745   83.404437   Edgardo  Alfonzo  4112500  \n",
       "4 -0.006580   78.561778      Luis   Alicea   750000  "
      ]
     },
     "execution_count": 112,
     "metadata": {},
     "output_type": "execute_result"
    }
   ],
   "source": [
    "playerLS = pos[['playerID','POS']].merge(playerLS, how = 'inner', on = \"playerID\")\n",
    "playerLS.head()"
   ]
  },
  {
   "cell_type": "code",
   "execution_count": 113,
   "metadata": {
    "collapsed": false
   },
   "outputs": [],
   "source": [
    "sub_playerLS = playerLS[(playerLS.minYear <= 2002) & (playerLS.maxYear >= 2003) & (playerLS.maxYear - playerLS.minYear >= 3)].copy()"
   ]
  },
  {
   "cell_type": "code",
   "execution_count": 114,
   "metadata": {
    "collapsed": false
   },
   "outputs": [
    {
     "data": {
      "text/html": [
       "<div>\n",
       "<table border=\"1\" class=\"dataframe\">\n",
       "  <thead>\n",
       "    <tr style=\"text-align: right;\">\n",
       "      <th></th>\n",
       "      <th>playerID</th>\n",
       "      <th>POS</th>\n",
       "      <th>minYear</th>\n",
       "      <th>maxYear</th>\n",
       "      <th>1B</th>\n",
       "      <th>2B</th>\n",
       "      <th>3B</th>\n",
       "      <th>HR</th>\n",
       "      <th>BB</th>\n",
       "      <th>OPW</th>\n",
       "      <th>nameFirst</th>\n",
       "      <th>nameLast</th>\n",
       "      <th>salary</th>\n",
       "    </tr>\n",
       "  </thead>\n",
       "  <tbody>\n",
       "    <tr>\n",
       "      <th>0</th>\n",
       "      <td>abreubo01</td>\n",
       "      <td>RF</td>\n",
       "      <td>1996</td>\n",
       "      <td>2012</td>\n",
       "      <td>-0.008202</td>\n",
       "      <td>0.006421</td>\n",
       "      <td>0.001002</td>\n",
       "      <td>-0.003252</td>\n",
       "      <td>0.050501</td>\n",
       "      <td>104.050008</td>\n",
       "      <td>Bobby</td>\n",
       "      <td>Abreu</td>\n",
       "      <td>9000000</td>\n",
       "    </tr>\n",
       "    <tr>\n",
       "      <th>3</th>\n",
       "      <td>alfoned01</td>\n",
       "      <td>2B</td>\n",
       "      <td>1995</td>\n",
       "      <td>2006</td>\n",
       "      <td>0.013485</td>\n",
       "      <td>-0.002177</td>\n",
       "      <td>-0.003239</td>\n",
       "      <td>-0.006436</td>\n",
       "      <td>0.010745</td>\n",
       "      <td>83.404437</td>\n",
       "      <td>Edgardo</td>\n",
       "      <td>Alfonzo</td>\n",
       "      <td>4112500</td>\n",
       "    </tr>\n",
       "    <tr>\n",
       "      <th>5</th>\n",
       "      <td>allench01</td>\n",
       "      <td>LF</td>\n",
       "      <td>1999</td>\n",
       "      <td>2005</td>\n",
       "      <td>0.023014</td>\n",
       "      <td>-0.009664</td>\n",
       "      <td>0.000201</td>\n",
       "      <td>-0.016584</td>\n",
       "      <td>-0.031390</td>\n",
       "      <td>58.526131</td>\n",
       "      <td>Chad</td>\n",
       "      <td>Allen</td>\n",
       "      <td>240000</td>\n",
       "    </tr>\n",
       "    <tr>\n",
       "      <th>7</th>\n",
       "      <td>alomaro01</td>\n",
       "      <td>2B</td>\n",
       "      <td>1988</td>\n",
       "      <td>2004</td>\n",
       "      <td>0.022145</td>\n",
       "      <td>0.001698</td>\n",
       "      <td>0.002653</td>\n",
       "      <td>-0.009386</td>\n",
       "      <td>0.004503</td>\n",
       "      <td>90.800847</td>\n",
       "      <td>Roberto</td>\n",
       "      <td>Alomar</td>\n",
       "      <td>5466667</td>\n",
       "    </tr>\n",
       "    <tr>\n",
       "      <th>9</th>\n",
       "      <td>aloumo01</td>\n",
       "      <td>OF</td>\n",
       "      <td>1990</td>\n",
       "      <td>2008</td>\n",
       "      <td>0.004058</td>\n",
       "      <td>0.001022</td>\n",
       "      <td>-0.000406</td>\n",
       "      <td>0.009994</td>\n",
       "      <td>0.000737</td>\n",
       "      <td>92.104556</td>\n",
       "      <td>Moises</td>\n",
       "      <td>Alou</td>\n",
       "      <td>5135000</td>\n",
       "    </tr>\n",
       "  </tbody>\n",
       "</table>\n",
       "</div>"
      ],
      "text/plain": [
       "    playerID POS  minYear  maxYear        1B        2B        3B        HR  \\\n",
       "0  abreubo01  RF     1996     2012 -0.008202  0.006421  0.001002 -0.003252   \n",
       "3  alfoned01  2B     1995     2006  0.013485 -0.002177 -0.003239 -0.006436   \n",
       "5  allench01  LF     1999     2005  0.023014 -0.009664  0.000201 -0.016584   \n",
       "7  alomaro01  2B     1988     2004  0.022145  0.001698  0.002653 -0.009386   \n",
       "9   aloumo01  OF     1990     2008  0.004058  0.001022 -0.000406  0.009994   \n",
       "\n",
       "         BB         OPW nameFirst nameLast   salary  \n",
       "0  0.050501  104.050008     Bobby    Abreu  9000000  \n",
       "3  0.010745   83.404437   Edgardo  Alfonzo  4112500  \n",
       "5 -0.031390   58.526131      Chad    Allen   240000  \n",
       "7  0.004503   90.800847   Roberto   Alomar  5466667  \n",
       "9  0.000737   92.104556    Moises     Alou  5135000  "
      ]
     },
     "execution_count": 114,
     "metadata": {},
     "output_type": "execute_result"
    }
   ],
   "source": [
    "sub_playerLS.head()"
   ]
  },
  {
   "cell_type": "code",
   "execution_count": 115,
   "metadata": {
    "collapsed": false
   },
   "outputs": [
    {
     "data": {
      "image/png": "[encoded data removed]",
      "text/plain": [
       "<matplotlib.figure.Figure at 0x1206fcf10>"
      ]
     },
     "metadata": {},
     "output_type": "display_data"
    }
   ],
   "source": [
    "fig = plt.figure()\n",
    "ax = fig.gca()\n",
    "plt.scatter(sub_playerLS.salary/10**6,sub_playerLS.OPW,alpha=0.5,c='red')\n",
    "ax.set_xscale('log')\n",
    "ax.set_xlabel('Salary (in Millions) on log')\n",
    "ax.set_ylabel('OPW')\n",
    "ax.set_title('Relationship between Salary and Predicted Number of Wins')\n",
    "plt.show()"
   ]
  },
  {
   "cell_type": "code",
   "execution_count": 119,
   "metadata": {
    "collapsed": false
   },
   "outputs": [],
   "source": [
    "sub_playerLS['salary'] = sub_playerLS['salary']*10**6"
   ]
  },
  {
   "cell_type": "code",
   "execution_count": 127,
   "metadata": {
    "collapsed": true
   },
   "outputs": [],
   "source": [
    "sub_playerLS['OPW/SALARY'] = sub_playerLS['OPW']/sub_playerLS['salary']"
   ]
  },
  {
   "cell_type": "code",
   "execution_count": 128,
   "metadata": {
    "collapsed": false
   },
   "outputs": [],
   "source": [
    "C = sub_playerLS[sub_playerLS['POS'] == 'C']\n",
    "ONEB = sub_playerLS[sub_playerLS['POS'] == '1B']\n",
    "TWOB = sub_playerLS[sub_playerLS['POS'] == '2B']\n",
    "THREEB = sub_playerLS[sub_playerLS['POS'] == '3B']\n",
    "SS = sub_playerLS[sub_playerLS['POS'] == 'SS']\n",
    "LF = sub_playerLS[sub_playerLS['POS'] == 'LF']\n",
    "CF = sub_playerLS[sub_playerLS['POS'] == 'CF']\n",
    "RF = sub_playerLS[sub_playerLS['POS'] == 'RF']\n",
    "DH = sub_playerLS[sub_playerLS['POS'] == 'DH']\n",
    "OF = sub_playerLS[sub_playerLS['POS'] == 'OF']"
   ]
  },
  {
   "cell_type": "code",
   "execution_count": 193,
   "metadata": {
    "collapsed": false
   },
   "outputs": [
    {
     "name": "stdout",
     "output_type": "stream",
     "text": [
      "3.49645828125\n"
     ]
    }
   ],
   "source": [
    "print THREEB.salary.mean()"
   ]
  },
  {
   "cell_type": "code",
   "execution_count": 259,
   "metadata": {
    "collapsed": false
   },
   "outputs": [
    {
     "data": {
      "text/html": [
       "<div>\n",
       "<table border=\"1\" class=\"dataframe\">\n",
       "  <thead>\n",
       "    <tr style=\"text-align: right;\">\n",
       "      <th></th>\n",
       "      <th>playerID</th>\n",
       "      <th>POS</th>\n",
       "      <th>minYear</th>\n",
       "      <th>maxYear</th>\n",
       "      <th>1B</th>\n",
       "      <th>2B</th>\n",
       "      <th>3B</th>\n",
       "      <th>HR</th>\n",
       "      <th>BB</th>\n",
       "      <th>OPW</th>\n",
       "      <th>nameFirst</th>\n",
       "      <th>nameLast</th>\n",
       "      <th>salary</th>\n",
       "      <th>OPW/SALARY</th>\n",
       "    </tr>\n",
       "  </thead>\n",
       "  <tbody>\n",
       "    <tr>\n",
       "      <th>828</th>\n",
       "      <td>spiveju01</td>\n",
       "      <td>2B</td>\n",
       "      <td>2001</td>\n",
       "      <td>2005</td>\n",
       "      <td>0.015970</td>\n",
       "      <td>0.005593</td>\n",
       "      <td>0.005126</td>\n",
       "      <td>-0.008065</td>\n",
       "      <td>0.008046</td>\n",
       "      <td>95.189726</td>\n",
       "      <td>Junior</td>\n",
       "      <td>Spivey</td>\n",
       "      <td>0.816000</td>\n",
       "      <td>116.654075</td>\n",
       "    </tr>\n",
       "    <tr>\n",
       "      <th>55</th>\n",
       "      <td>bellhma01</td>\n",
       "      <td>2B</td>\n",
       "      <td>1997</td>\n",
       "      <td>2007</td>\n",
       "      <td>-0.039044</td>\n",
       "      <td>0.002241</td>\n",
       "      <td>0.001326</td>\n",
       "      <td>0.005377</td>\n",
       "      <td>0.046554</td>\n",
       "      <td>91.598047</td>\n",
       "      <td>Mark</td>\n",
       "      <td>Bellhorn</td>\n",
       "      <td>0.477500</td>\n",
       "      <td>191.828371</td>\n",
       "    </tr>\n",
       "    <tr>\n",
       "      <th>7</th>\n",
       "      <td>alomaro01</td>\n",
       "      <td>2B</td>\n",
       "      <td>1988</td>\n",
       "      <td>2004</td>\n",
       "      <td>0.022145</td>\n",
       "      <td>0.001698</td>\n",
       "      <td>0.002653</td>\n",
       "      <td>-0.009386</td>\n",
       "      <td>0.004503</td>\n",
       "      <td>90.800847</td>\n",
       "      <td>Roberto</td>\n",
       "      <td>Alomar</td>\n",
       "      <td>5.466667</td>\n",
       "      <td>16.609910</td>\n",
       "    </tr>\n",
       "    <tr>\n",
       "      <th>157</th>\n",
       "      <td>castilu01</td>\n",
       "      <td>2B</td>\n",
       "      <td>1996</td>\n",
       "      <td>2010</td>\n",
       "      <td>0.062179</td>\n",
       "      <td>-0.023741</td>\n",
       "      <td>0.003471</td>\n",
       "      <td>-0.030511</td>\n",
       "      <td>0.012767</td>\n",
       "      <td>86.721761</td>\n",
       "      <td>Luis</td>\n",
       "      <td>Castillo</td>\n",
       "      <td>4.666667</td>\n",
       "      <td>18.583233</td>\n",
       "    </tr>\n",
       "    <tr>\n",
       "      <th>239</th>\n",
       "      <td>derosma01</td>\n",
       "      <td>2B</td>\n",
       "      <td>1998</td>\n",
       "      <td>2013</td>\n",
       "      <td>0.007927</td>\n",
       "      <td>0.004981</td>\n",
       "      <td>-0.000685</td>\n",
       "      <td>-0.006713</td>\n",
       "      <td>0.005630</td>\n",
       "      <td>83.984873</td>\n",
       "      <td>Mark</td>\n",
       "      <td>DeRosa</td>\n",
       "      <td>0.775000</td>\n",
       "      <td>108.367578</td>\n",
       "    </tr>\n",
       "    <tr>\n",
       "      <th>500</th>\n",
       "      <td>kentje01</td>\n",
       "      <td>2B</td>\n",
       "      <td>1992</td>\n",
       "      <td>2008</td>\n",
       "      <td>-0.009952</td>\n",
       "      <td>0.010132</td>\n",
       "      <td>-0.000569</td>\n",
       "      <td>0.010217</td>\n",
       "      <td>-0.009517</td>\n",
       "      <td>83.900680</td>\n",
       "      <td>Jeff</td>\n",
       "      <td>Kent</td>\n",
       "      <td>6.000000</td>\n",
       "      <td>13.983447</td>\n",
       "    </tr>\n",
       "    <tr>\n",
       "      <th>384</th>\n",
       "      <td>hallbi03</td>\n",
       "      <td>2B</td>\n",
       "      <td>2002</td>\n",
       "      <td>2012</td>\n",
       "      <td>-0.032260</td>\n",
       "      <td>0.016176</td>\n",
       "      <td>0.003551</td>\n",
       "      <td>0.011651</td>\n",
       "      <td>-0.004524</td>\n",
       "      <td>83.586622</td>\n",
       "      <td>Bill</td>\n",
       "      <td>Hall</td>\n",
       "      <td>3.062500</td>\n",
       "      <td>27.293591</td>\n",
       "    </tr>\n",
       "    <tr>\n",
       "      <th>3</th>\n",
       "      <td>alfoned01</td>\n",
       "      <td>2B</td>\n",
       "      <td>1995</td>\n",
       "      <td>2006</td>\n",
       "      <td>0.013485</td>\n",
       "      <td>-0.002177</td>\n",
       "      <td>-0.003239</td>\n",
       "      <td>-0.006436</td>\n",
       "      <td>0.010745</td>\n",
       "      <td>83.404437</td>\n",
       "      <td>Edgardo</td>\n",
       "      <td>Alfonzo</td>\n",
       "      <td>4.112500</td>\n",
       "      <td>20.280714</td>\n",
       "    </tr>\n",
       "    <tr>\n",
       "      <th>902</th>\n",
       "      <td>vidrojo01</td>\n",
       "      <td>2B</td>\n",
       "      <td>1997</td>\n",
       "      <td>2008</td>\n",
       "      <td>0.030316</td>\n",
       "      <td>0.012657</td>\n",
       "      <td>-0.003169</td>\n",
       "      <td>-0.010792</td>\n",
       "      <td>-0.015018</td>\n",
       "      <td>82.525957</td>\n",
       "      <td>Jose</td>\n",
       "      <td>Vidro</td>\n",
       "      <td>4.750000</td>\n",
       "      <td>17.373886</td>\n",
       "    </tr>\n",
       "    <tr>\n",
       "      <th>337</th>\n",
       "      <td>gilesma01</td>\n",
       "      <td>2B</td>\n",
       "      <td>2001</td>\n",
       "      <td>2007</td>\n",
       "      <td>-0.001402</td>\n",
       "      <td>0.015089</td>\n",
       "      <td>-0.001188</td>\n",
       "      <td>-0.008110</td>\n",
       "      <td>0.005605</td>\n",
       "      <td>82.175840</td>\n",
       "      <td>Marcus</td>\n",
       "      <td>Giles</td>\n",
       "      <td>1.390000</td>\n",
       "      <td>59.119310</td>\n",
       "    </tr>\n",
       "    <tr>\n",
       "      <th>766</th>\n",
       "      <td>roberbr01</td>\n",
       "      <td>2B</td>\n",
       "      <td>2001</td>\n",
       "      <td>2013</td>\n",
       "      <td>0.004351</td>\n",
       "      <td>0.012365</td>\n",
       "      <td>0.001336</td>\n",
       "      <td>-0.016958</td>\n",
       "      <td>0.009914</td>\n",
       "      <td>81.422089</td>\n",
       "      <td>Brian</td>\n",
       "      <td>Roberts</td>\n",
       "      <td>7.150000</td>\n",
       "      <td>11.387705</td>\n",
       "    </tr>\n",
       "    <tr>\n",
       "      <th>295</th>\n",
       "      <td>figgich01</td>\n",
       "      <td>2B</td>\n",
       "      <td>2002</td>\n",
       "      <td>2012</td>\n",
       "      <td>0.033588</td>\n",
       "      <td>-0.017641</td>\n",
       "      <td>0.006053</td>\n",
       "      <td>-0.025740</td>\n",
       "      <td>0.011342</td>\n",
       "      <td>80.954132</td>\n",
       "      <td>Chone</td>\n",
       "      <td>Figgins</td>\n",
       "      <td>4.750000</td>\n",
       "      <td>17.042975</td>\n",
       "    </tr>\n",
       "    <tr>\n",
       "      <th>468</th>\n",
       "      <td>jimenda01</td>\n",
       "      <td>2B</td>\n",
       "      <td>1999</td>\n",
       "      <td>2007</td>\n",
       "      <td>0.002989</td>\n",
       "      <td>-0.007937</td>\n",
       "      <td>-0.000460</td>\n",
       "      <td>-0.015689</td>\n",
       "      <td>0.030089</td>\n",
       "      <td>80.323583</td>\n",
       "      <td>D'Angelo</td>\n",
       "      <td>Jimenez</td>\n",
       "      <td>0.345000</td>\n",
       "      <td>232.821979</td>\n",
       "    </tr>\n",
       "    <tr>\n",
       "      <th>149</th>\n",
       "      <td>carroja01</td>\n",
       "      <td>2B</td>\n",
       "      <td>2002</td>\n",
       "      <td>2013</td>\n",
       "      <td>0.039408</td>\n",
       "      <td>-0.011787</td>\n",
       "      <td>0.000577</td>\n",
       "      <td>-0.027828</td>\n",
       "      <td>0.012872</td>\n",
       "      <td>79.579337</td>\n",
       "      <td>Jamey</td>\n",
       "      <td>Carroll</td>\n",
       "      <td>1.700000</td>\n",
       "      <td>46.811375</td>\n",
       "    </tr>\n",
       "    <tr>\n",
       "      <th>437</th>\n",
       "      <td>hudsoor01</td>\n",
       "      <td>2B</td>\n",
       "      <td>2002</td>\n",
       "      <td>2012</td>\n",
       "      <td>0.006138</td>\n",
       "      <td>-0.001759</td>\n",
       "      <td>0.006867</td>\n",
       "      <td>-0.015480</td>\n",
       "      <td>0.000987</td>\n",
       "      <td>78.572667</td>\n",
       "      <td>Orlando</td>\n",
       "      <td>Hudson</td>\n",
       "      <td>3.632438</td>\n",
       "      <td>21.630835</td>\n",
       "    </tr>\n",
       "    <tr>\n",
       "      <th>800</th>\n",
       "      <td>scutama01</td>\n",
       "      <td>2B</td>\n",
       "      <td>2002</td>\n",
       "      <td>2013</td>\n",
       "      <td>0.025677</td>\n",
       "      <td>-0.003162</td>\n",
       "      <td>-0.002917</td>\n",
       "      <td>-0.019050</td>\n",
       "      <td>0.006231</td>\n",
       "      <td>76.630288</td>\n",
       "      <td>Marco</td>\n",
       "      <td>Scutaro</td>\n",
       "      <td>1.550000</td>\n",
       "      <td>49.438896</td>\n",
       "    </tr>\n",
       "    <tr>\n",
       "      <th>557</th>\n",
       "      <td>loretma01</td>\n",
       "      <td>2B</td>\n",
       "      <td>1995</td>\n",
       "      <td>2009</td>\n",
       "      <td>0.041538</td>\n",
       "      <td>-0.000061</td>\n",
       "      <td>-0.001215</td>\n",
       "      <td>-0.020550</td>\n",
       "      <td>-0.014870</td>\n",
       "      <td>76.288744</td>\n",
       "      <td>Mark</td>\n",
       "      <td>Loretta</td>\n",
       "      <td>2.500000</td>\n",
       "      <td>30.515498</td>\n",
       "    </tr>\n",
       "    <tr>\n",
       "      <th>603</th>\n",
       "      <td>mclemma01</td>\n",
       "      <td>2B</td>\n",
       "      <td>1986</td>\n",
       "      <td>2004</td>\n",
       "      <td>0.012113</td>\n",
       "      <td>-0.013644</td>\n",
       "      <td>0.000911</td>\n",
       "      <td>-0.025604</td>\n",
       "      <td>0.031144</td>\n",
       "      <td>76.018553</td>\n",
       "      <td>Mark</td>\n",
       "      <td>McLemore</td>\n",
       "      <td>1.219445</td>\n",
       "      <td>62.338648</td>\n",
       "    </tr>\n",
       "    <tr>\n",
       "      <th>73</th>\n",
       "      <td>biggicr01</td>\n",
       "      <td>2B</td>\n",
       "      <td>1988</td>\n",
       "      <td>2007</td>\n",
       "      <td>0.003161</td>\n",
       "      <td>0.005617</td>\n",
       "      <td>-0.001506</td>\n",
       "      <td>-0.007189</td>\n",
       "      <td>-0.004953</td>\n",
       "      <td>75.042750</td>\n",
       "      <td>Craig</td>\n",
       "      <td>Biggio</td>\n",
       "      <td>4.000000</td>\n",
       "      <td>18.760688</td>\n",
       "    </tr>\n",
       "    <tr>\n",
       "      <th>261</th>\n",
       "      <td>durhara01</td>\n",
       "      <td>2B</td>\n",
       "      <td>1995</td>\n",
       "      <td>2008</td>\n",
       "      <td>-0.004599</td>\n",
       "      <td>-0.000114</td>\n",
       "      <td>0.004647</td>\n",
       "      <td>-0.009779</td>\n",
       "      <td>-0.002966</td>\n",
       "      <td>74.046396</td>\n",
       "      <td>Ray</td>\n",
       "      <td>Durham</td>\n",
       "      <td>5.750000</td>\n",
       "      <td>12.877634</td>\n",
       "    </tr>\n",
       "    <tr>\n",
       "      <th>911</th>\n",
       "      <td>walketo04</td>\n",
       "      <td>2B</td>\n",
       "      <td>1996</td>\n",
       "      <td>2007</td>\n",
       "      <td>0.018171</td>\n",
       "      <td>0.013208</td>\n",
       "      <td>0.000431</td>\n",
       "      <td>-0.017410</td>\n",
       "      <td>-0.017459</td>\n",
       "      <td>73.645928</td>\n",
       "      <td>Todd</td>\n",
       "      <td>Walker</td>\n",
       "      <td>0.750000</td>\n",
       "      <td>98.194571</td>\n",
       "    </tr>\n",
       "    <tr>\n",
       "      <th>611</th>\n",
       "      <td>menecfr01</td>\n",
       "      <td>2B</td>\n",
       "      <td>1999</td>\n",
       "      <td>2005</td>\n",
       "      <td>-0.021680</td>\n",
       "      <td>-0.011214</td>\n",
       "      <td>-0.001739</td>\n",
       "      <td>-0.014485</td>\n",
       "      <td>0.046071</td>\n",
       "      <td>73.581041</td>\n",
       "      <td>Frank</td>\n",
       "      <td>Menechino</td>\n",
       "      <td>0.314750</td>\n",
       "      <td>233.776144</td>\n",
       "    </tr>\n",
       "    <tr>\n",
       "      <th>959</th>\n",
       "      <td>younger01</td>\n",
       "      <td>2B</td>\n",
       "      <td>1992</td>\n",
       "      <td>2006</td>\n",
       "      <td>0.028703</td>\n",
       "      <td>-0.000219</td>\n",
       "      <td>0.001911</td>\n",
       "      <td>-0.025698</td>\n",
       "      <td>-0.006838</td>\n",
       "      <td>72.777433</td>\n",
       "      <td>Eric</td>\n",
       "      <td>Young</td>\n",
       "      <td>1.562500</td>\n",
       "      <td>46.577557</td>\n",
       "    </tr>\n",
       "    <tr>\n",
       "      <th>56</th>\n",
       "      <td>belliro01</td>\n",
       "      <td>2B</td>\n",
       "      <td>1998</td>\n",
       "      <td>2010</td>\n",
       "      <td>0.005959</td>\n",
       "      <td>0.008679</td>\n",
       "      <td>-0.000001</td>\n",
       "      <td>-0.015021</td>\n",
       "      <td>-0.005611</td>\n",
       "      <td>72.682057</td>\n",
       "      <td>Ronnie</td>\n",
       "      <td>Belliard</td>\n",
       "      <td>0.962500</td>\n",
       "      <td>75.513826</td>\n",
       "    </tr>\n",
       "    <tr>\n",
       "      <th>27</th>\n",
       "      <td>baergca01</td>\n",
       "      <td>2B</td>\n",
       "      <td>1990</td>\n",
       "      <td>2005</td>\n",
       "      <td>0.038873</td>\n",
       "      <td>-0.001666</td>\n",
       "      <td>-0.001974</td>\n",
       "      <td>-0.005930</td>\n",
       "      <td>-0.041313</td>\n",
       "      <td>72.186558</td>\n",
       "      <td>Carlos</td>\n",
       "      <td>Baerga</td>\n",
       "      <td>1.000000</td>\n",
       "      <td>72.186558</td>\n",
       "    </tr>\n",
       "    <tr>\n",
       "      <th>715</th>\n",
       "      <td>polanpl01</td>\n",
       "      <td>2B</td>\n",
       "      <td>1998</td>\n",
       "      <td>2013</td>\n",
       "      <td>0.051774</td>\n",
       "      <td>-0.004888</td>\n",
       "      <td>-0.001375</td>\n",
       "      <td>-0.017450</td>\n",
       "      <td>-0.034947</td>\n",
       "      <td>71.521638</td>\n",
       "      <td>Placido</td>\n",
       "      <td>Polanco</td>\n",
       "      <td>4.600000</td>\n",
       "      <td>15.548182</td>\n",
       "    </tr>\n",
       "    <tr>\n",
       "      <th>194</th>\n",
       "      <td>counscr01</td>\n",
       "      <td>2B</td>\n",
       "      <td>1995</td>\n",
       "      <td>2011</td>\n",
       "      <td>0.004199</td>\n",
       "      <td>-0.008255</td>\n",
       "      <td>0.001844</td>\n",
       "      <td>-0.026003</td>\n",
       "      <td>0.020414</td>\n",
       "      <td>69.695472</td>\n",
       "      <td>Craig</td>\n",
       "      <td>Counsell</td>\n",
       "      <td>1.516667</td>\n",
       "      <td>45.953048</td>\n",
       "    </tr>\n",
       "    <tr>\n",
       "      <th>707</th>\n",
       "      <td>phillbr01</td>\n",
       "      <td>2B</td>\n",
       "      <td>2002</td>\n",
       "      <td>2013</td>\n",
       "      <td>0.012733</td>\n",
       "      <td>-0.005075</td>\n",
       "      <td>0.000487</td>\n",
       "      <td>-0.000714</td>\n",
       "      <td>-0.031374</td>\n",
       "      <td>69.194752</td>\n",
       "      <td>Brandon</td>\n",
       "      <td>Phillips</td>\n",
       "      <td>6.062500</td>\n",
       "      <td>11.413567</td>\n",
       "    </tr>\n",
       "    <tr>\n",
       "      <th>821</th>\n",
       "      <td>soriaal01</td>\n",
       "      <td>2B</td>\n",
       "      <td>1999</td>\n",
       "      <td>2013</td>\n",
       "      <td>-0.020729</td>\n",
       "      <td>0.007485</td>\n",
       "      <td>-0.000898</td>\n",
       "      <td>0.015654</td>\n",
       "      <td>-0.033819</td>\n",
       "      <td>68.815408</td>\n",
       "      <td>Alfonso</td>\n",
       "      <td>Soriano</td>\n",
       "      <td>10.000000</td>\n",
       "      <td>6.881541</td>\n",
       "    </tr>\n",
       "    <tr>\n",
       "      <th>903</th>\n",
       "      <td>vinafe01</td>\n",
       "      <td>2B</td>\n",
       "      <td>1993</td>\n",
       "      <td>2004</td>\n",
       "      <td>0.043735</td>\n",
       "      <td>-0.006217</td>\n",
       "      <td>0.006395</td>\n",
       "      <td>-0.026181</td>\n",
       "      <td>-0.034398</td>\n",
       "      <td>68.366650</td>\n",
       "      <td>Fernando</td>\n",
       "      <td>Vina</td>\n",
       "      <td>2.000000</td>\n",
       "      <td>34.183325</td>\n",
       "    </tr>\n",
       "    <tr>\n",
       "      <th>446</th>\n",
       "      <td>infanom01</td>\n",
       "      <td>2B</td>\n",
       "      <td>2002</td>\n",
       "      <td>2013</td>\n",
       "      <td>0.009435</td>\n",
       "      <td>-0.006065</td>\n",
       "      <td>0.009574</td>\n",
       "      <td>-0.013095</td>\n",
       "      <td>-0.028891</td>\n",
       "      <td>68.063768</td>\n",
       "      <td>Omar</td>\n",
       "      <td>Infante</td>\n",
       "      <td>1.400000</td>\n",
       "      <td>48.616977</td>\n",
       "    </tr>\n",
       "    <tr>\n",
       "      <th>641</th>\n",
       "      <td>morriwa02</td>\n",
       "      <td>2B</td>\n",
       "      <td>1999</td>\n",
       "      <td>2003</td>\n",
       "      <td>0.014367</td>\n",
       "      <td>-0.007087</td>\n",
       "      <td>-0.001161</td>\n",
       "      <td>-0.020343</td>\n",
       "      <td>0.002613</td>\n",
       "      <td>67.873486</td>\n",
       "      <td>Warren</td>\n",
       "      <td>Morris</td>\n",
       "      <td>0.275000</td>\n",
       "      <td>246.812678</td>\n",
       "    </tr>\n",
       "    <tr>\n",
       "      <th>784</th>\n",
       "      <td>sanchfr01</td>\n",
       "      <td>2B</td>\n",
       "      <td>2002</td>\n",
       "      <td>2011</td>\n",
       "      <td>0.041989</td>\n",
       "      <td>0.012843</td>\n",
       "      <td>-0.001075</td>\n",
       "      <td>-0.018413</td>\n",
       "      <td>-0.049423</td>\n",
       "      <td>67.023487</td>\n",
       "      <td>Freddy</td>\n",
       "      <td>Sanchez</td>\n",
       "      <td>4.150000</td>\n",
       "      <td>16.150238</td>\n",
       "    </tr>\n",
       "    <tr>\n",
       "      <th>126</th>\n",
       "      <td>bushho01</td>\n",
       "      <td>2B</td>\n",
       "      <td>1997</td>\n",
       "      <td>2004</td>\n",
       "      <td>0.069049</td>\n",
       "      <td>0.001178</td>\n",
       "      <td>0.002315</td>\n",
       "      <td>-0.026007</td>\n",
       "      <td>-0.061316</td>\n",
       "      <td>66.901691</td>\n",
       "      <td>Homer</td>\n",
       "      <td>Bush</td>\n",
       "      <td>1.450000</td>\n",
       "      <td>46.139097</td>\n",
       "    </tr>\n",
       "    <tr>\n",
       "      <th>87</th>\n",
       "      <td>boonebr01</td>\n",
       "      <td>2B</td>\n",
       "      <td>1992</td>\n",
       "      <td>2005</td>\n",
       "      <td>-0.009486</td>\n",
       "      <td>-0.000104</td>\n",
       "      <td>-0.001740</td>\n",
       "      <td>0.002327</td>\n",
       "      <td>-0.021668</td>\n",
       "      <td>64.966846</td>\n",
       "      <td>Bret</td>\n",
       "      <td>Boone</td>\n",
       "      <td>2.900000</td>\n",
       "      <td>22.402361</td>\n",
       "    </tr>\n",
       "    <tr>\n",
       "      <th>264</th>\n",
       "      <td>easleda01</td>\n",
       "      <td>2B</td>\n",
       "      <td>1992</td>\n",
       "      <td>2008</td>\n",
       "      <td>-0.017642</td>\n",
       "      <td>0.002462</td>\n",
       "      <td>-0.000410</td>\n",
       "      <td>-0.003591</td>\n",
       "      <td>-0.010062</td>\n",
       "      <td>64.337187</td>\n",
       "      <td>Damion</td>\n",
       "      <td>Easley</td>\n",
       "      <td>0.750000</td>\n",
       "      <td>85.782916</td>\n",
       "    </tr>\n",
       "    <tr>\n",
       "      <th>14</th>\n",
       "      <td>anderma02</td>\n",
       "      <td>2B</td>\n",
       "      <td>1998</td>\n",
       "      <td>2009</td>\n",
       "      <td>0.017909</td>\n",
       "      <td>0.000811</td>\n",
       "      <td>0.001260</td>\n",
       "      <td>-0.019844</td>\n",
       "      <td>-0.026193</td>\n",
       "      <td>61.965795</td>\n",
       "      <td>Marlon</td>\n",
       "      <td>Anderson</td>\n",
       "      <td>0.600000</td>\n",
       "      <td>103.276326</td>\n",
       "    </tr>\n",
       "    <tr>\n",
       "      <th>269</th>\n",
       "      <td>ellisma01</td>\n",
       "      <td>2B</td>\n",
       "      <td>2002</td>\n",
       "      <td>2013</td>\n",
       "      <td>-0.003877</td>\n",
       "      <td>-0.000880</td>\n",
       "      <td>0.001092</td>\n",
       "      <td>-0.010132</td>\n",
       "      <td>-0.019756</td>\n",
       "      <td>61.122120</td>\n",
       "      <td>Mark</td>\n",
       "      <td>Ellis</td>\n",
       "      <td>3.500000</td>\n",
       "      <td>17.463463</td>\n",
       "    </tr>\n",
       "    <tr>\n",
       "      <th>498</th>\n",
       "      <td>kennead01</td>\n",
       "      <td>2B</td>\n",
       "      <td>1999</td>\n",
       "      <td>2012</td>\n",
       "      <td>0.019836</td>\n",
       "      <td>-0.003334</td>\n",
       "      <td>0.003522</td>\n",
       "      <td>-0.018790</td>\n",
       "      <td>-0.034932</td>\n",
       "      <td>59.987880</td>\n",
       "      <td>Adam</td>\n",
       "      <td>Kennedy</td>\n",
       "      <td>1.250000</td>\n",
       "      <td>47.990304</td>\n",
       "    </tr>\n",
       "    <tr>\n",
       "      <th>948</th>\n",
       "      <td>womacto01</td>\n",
       "      <td>2B</td>\n",
       "      <td>1993</td>\n",
       "      <td>2006</td>\n",
       "      <td>0.040825</td>\n",
       "      <td>-0.014245</td>\n",
       "      <td>0.006584</td>\n",
       "      <td>-0.027403</td>\n",
       "      <td>-0.039197</td>\n",
       "      <td>59.711876</td>\n",
       "      <td>Tony</td>\n",
       "      <td>Womack</td>\n",
       "      <td>2.000000</td>\n",
       "      <td>29.855938</td>\n",
       "    </tr>\n",
       "    <tr>\n",
       "      <th>726</th>\n",
       "      <td>puntoni01</td>\n",
       "      <td>2B</td>\n",
       "      <td>2001</td>\n",
       "      <td>2013</td>\n",
       "      <td>0.007988</td>\n",
       "      <td>-0.015184</td>\n",
       "      <td>0.005380</td>\n",
       "      <td>-0.030982</td>\n",
       "      <td>0.003850</td>\n",
       "      <td>59.668936</td>\n",
       "      <td>Nick</td>\n",
       "      <td>Punto</td>\n",
       "      <td>1.125000</td>\n",
       "      <td>53.039054</td>\n",
       "    </tr>\n",
       "    <tr>\n",
       "      <th>372</th>\n",
       "      <td>grudzma01</td>\n",
       "      <td>2B</td>\n",
       "      <td>1995</td>\n",
       "      <td>2010</td>\n",
       "      <td>0.040329</td>\n",
       "      <td>0.003236</td>\n",
       "      <td>0.000040</td>\n",
       "      <td>-0.022279</td>\n",
       "      <td>-0.049176</td>\n",
       "      <td>59.647739</td>\n",
       "      <td>Mark</td>\n",
       "      <td>Grudzielanek</td>\n",
       "      <td>2.500000</td>\n",
       "      <td>23.859096</td>\n",
       "    </tr>\n",
       "    <tr>\n",
       "      <th>598</th>\n",
       "      <td>mcewijo01</td>\n",
       "      <td>2B</td>\n",
       "      <td>1998</td>\n",
       "      <td>2006</td>\n",
       "      <td>0.012400</td>\n",
       "      <td>0.000337</td>\n",
       "      <td>0.001630</td>\n",
       "      <td>-0.019643</td>\n",
       "      <td>-0.028811</td>\n",
       "      <td>58.106997</td>\n",
       "      <td>Joe</td>\n",
       "      <td>McEwing</td>\n",
       "      <td>0.500000</td>\n",
       "      <td>116.213994</td>\n",
       "    </tr>\n",
       "    <tr>\n",
       "      <th>762</th>\n",
       "      <td>rivaslu01</td>\n",
       "      <td>2B</td>\n",
       "      <td>2000</td>\n",
       "      <td>2008</td>\n",
       "      <td>0.021702</td>\n",
       "      <td>-0.018693</td>\n",
       "      <td>0.008361</td>\n",
       "      <td>-0.021236</td>\n",
       "      <td>-0.033305</td>\n",
       "      <td>57.855965</td>\n",
       "      <td>Luis</td>\n",
       "      <td>Rivas</td>\n",
       "      <td>0.432500</td>\n",
       "      <td>133.771017</td>\n",
       "    </tr>\n",
       "    <tr>\n",
       "      <th>568</th>\n",
       "      <td>maciajo01</td>\n",
       "      <td>2B</td>\n",
       "      <td>1999</td>\n",
       "      <td>2005</td>\n",
       "      <td>0.015348</td>\n",
       "      <td>-0.005060</td>\n",
       "      <td>0.006163</td>\n",
       "      <td>-0.020919</td>\n",
       "      <td>-0.036026</td>\n",
       "      <td>57.445218</td>\n",
       "      <td>Jose</td>\n",
       "      <td>Macias</td>\n",
       "      <td>0.750000</td>\n",
       "      <td>76.593624</td>\n",
       "    </tr>\n",
       "    <tr>\n",
       "      <th>746</th>\n",
       "      <td>reesepo01</td>\n",
       "      <td>2B</td>\n",
       "      <td>1997</td>\n",
       "      <td>2004</td>\n",
       "      <td>0.009816</td>\n",
       "      <td>-0.003168</td>\n",
       "      <td>0.003882</td>\n",
       "      <td>-0.017309</td>\n",
       "      <td>-0.035758</td>\n",
       "      <td>56.071645</td>\n",
       "      <td>Pokey</td>\n",
       "      <td>Reese</td>\n",
       "      <td>1.000000</td>\n",
       "      <td>56.071645</td>\n",
       "    </tr>\n",
       "    <tr>\n",
       "      <th>136</th>\n",
       "      <td>cairomi01</td>\n",
       "      <td>2B</td>\n",
       "      <td>1996</td>\n",
       "      <td>2012</td>\n",
       "      <td>0.020604</td>\n",
       "      <td>-0.003310</td>\n",
       "      <td>0.004178</td>\n",
       "      <td>-0.024506</td>\n",
       "      <td>-0.050010</td>\n",
       "      <td>48.569775</td>\n",
       "      <td>Miguel</td>\n",
       "      <td>Cairo</td>\n",
       "      <td>0.850000</td>\n",
       "      <td>57.140912</td>\n",
       "    </tr>\n",
       "    <tr>\n",
       "      <th>383</th>\n",
       "      <td>hairsje02</td>\n",
       "      <td>2B</td>\n",
       "      <td>1998</td>\n",
       "      <td>2013</td>\n",
       "      <td>-0.014193</td>\n",
       "      <td>-0.007811</td>\n",
       "      <td>0.003305</td>\n",
       "      <td>-0.022415</td>\n",
       "      <td>-0.021176</td>\n",
       "      <td>43.728432</td>\n",
       "      <td>Jerry</td>\n",
       "      <td>Hairston</td>\n",
       "      <td>1.800000</td>\n",
       "      <td>24.293573</td>\n",
       "    </tr>\n",
       "  </tbody>\n",
       "</table>\n",
       "</div>"
      ],
      "text/plain": [
       "      playerID POS  minYear  maxYear        1B        2B        3B        HR  \\\n",
       "828  spiveju01  2B     2001     2005  0.015970  0.005593  0.005126 -0.008065   \n",
       "55   bellhma01  2B     1997     2007 -0.039044  0.002241  0.001326  0.005377   \n",
       "7    alomaro01  2B     1988     2004  0.022145  0.001698  0.002653 -0.009386   \n",
       "157  castilu01  2B     1996     2010  0.062179 -0.023741  0.003471 -0.030511   \n",
       "239  derosma01  2B     1998     2013  0.007927  0.004981 -0.000685 -0.006713   \n",
       "500   kentje01  2B     1992     2008 -0.009952  0.010132 -0.000569  0.010217   \n",
       "384   hallbi03  2B     2002     2012 -0.032260  0.016176  0.003551  0.011651   \n",
       "3    alfoned01  2B     1995     2006  0.013485 -0.002177 -0.003239 -0.006436   \n",
       "902  vidrojo01  2B     1997     2008  0.030316  0.012657 -0.003169 -0.010792   \n",
       "337  gilesma01  2B     2001     2007 -0.001402  0.015089 -0.001188 -0.008110   \n",
       "766  roberbr01  2B     2001     2013  0.004351  0.012365  0.001336 -0.016958   \n",
       "295  figgich01  2B     2002     2012  0.033588 -0.017641  0.006053 -0.025740   \n",
       "468  jimenda01  2B     1999     2007  0.002989 -0.007937 -0.000460 -0.015689   \n",
       "149  carroja01  2B     2002     2013  0.039408 -0.011787  0.000577 -0.027828   \n",
       "437  hudsoor01  2B     2002     2012  0.006138 -0.001759  0.006867 -0.015480   \n",
       "800  scutama01  2B     2002     2013  0.025677 -0.003162 -0.002917 -0.019050   \n",
       "557  loretma01  2B     1995     2009  0.041538 -0.000061 -0.001215 -0.020550   \n",
       "603  mclemma01  2B     1986     2004  0.012113 -0.013644  0.000911 -0.025604   \n",
       "73   biggicr01  2B     1988     2007  0.003161  0.005617 -0.001506 -0.007189   \n",
       "261  durhara01  2B     1995     2008 -0.004599 -0.000114  0.004647 -0.009779   \n",
       "911  walketo04  2B     1996     2007  0.018171  0.013208  0.000431 -0.017410   \n",
       "611  menecfr01  2B     1999     2005 -0.021680 -0.011214 -0.001739 -0.014485   \n",
       "959  younger01  2B     1992     2006  0.028703 -0.000219  0.001911 -0.025698   \n",
       "56   belliro01  2B     1998     2010  0.005959  0.008679 -0.000001 -0.015021   \n",
       "27   baergca01  2B     1990     2005  0.038873 -0.001666 -0.001974 -0.005930   \n",
       "715  polanpl01  2B     1998     2013  0.051774 -0.004888 -0.001375 -0.017450   \n",
       "194  counscr01  2B     1995     2011  0.004199 -0.008255  0.001844 -0.026003   \n",
       "707  phillbr01  2B     2002     2013  0.012733 -0.005075  0.000487 -0.000714   \n",
       "821  soriaal01  2B     1999     2013 -0.020729  0.007485 -0.000898  0.015654   \n",
       "903   vinafe01  2B     1993     2004  0.043735 -0.006217  0.006395 -0.026181   \n",
       "446  infanom01  2B     2002     2013  0.009435 -0.006065  0.009574 -0.013095   \n",
       "641  morriwa02  2B     1999     2003  0.014367 -0.007087 -0.001161 -0.020343   \n",
       "784  sanchfr01  2B     2002     2011  0.041989  0.012843 -0.001075 -0.018413   \n",
       "126   bushho01  2B     1997     2004  0.069049  0.001178  0.002315 -0.026007   \n",
       "87   boonebr01  2B     1992     2005 -0.009486 -0.000104 -0.001740  0.002327   \n",
       "264  easleda01  2B     1992     2008 -0.017642  0.002462 -0.000410 -0.003591   \n",
       "14   anderma02  2B     1998     2009  0.017909  0.000811  0.001260 -0.019844   \n",
       "269  ellisma01  2B     2002     2013 -0.003877 -0.000880  0.001092 -0.010132   \n",
       "498  kennead01  2B     1999     2012  0.019836 -0.003334  0.003522 -0.018790   \n",
       "948  womacto01  2B     1993     2006  0.040825 -0.014245  0.006584 -0.027403   \n",
       "726  puntoni01  2B     2001     2013  0.007988 -0.015184  0.005380 -0.030982   \n",
       "372  grudzma01  2B     1995     2010  0.040329  0.003236  0.000040 -0.022279   \n",
       "598  mcewijo01  2B     1998     2006  0.012400  0.000337  0.001630 -0.019643   \n",
       "762  rivaslu01  2B     2000     2008  0.021702 -0.018693  0.008361 -0.021236   \n",
       "568  maciajo01  2B     1999     2005  0.015348 -0.005060  0.006163 -0.020919   \n",
       "746  reesepo01  2B     1997     2004  0.009816 -0.003168  0.003882 -0.017309   \n",
       "136  cairomi01  2B     1996     2012  0.020604 -0.003310  0.004178 -0.024506   \n",
       "383  hairsje02  2B     1998     2013 -0.014193 -0.007811  0.003305 -0.022415   \n",
       "\n",
       "           BB        OPW nameFirst      nameLast     salary  OPW/SALARY  \n",
       "828  0.008046  95.189726    Junior        Spivey   0.816000  116.654075  \n",
       "55   0.046554  91.598047      Mark      Bellhorn   0.477500  191.828371  \n",
       "7    0.004503  90.800847   Roberto        Alomar   5.466667   16.609910  \n",
       "157  0.012767  86.721761      Luis      Castillo   4.666667   18.583233  \n",
       "239  0.005630  83.984873      Mark        DeRosa   0.775000  108.367578  \n",
       "500 -0.009517  83.900680      Jeff          Kent   6.000000   13.983447  \n",
       "384 -0.004524  83.586622      Bill          Hall   3.062500   27.293591  \n",
       "3    0.010745  83.404437   Edgardo       Alfonzo   4.112500   20.280714  \n",
       "902 -0.015018  82.525957      Jose         Vidro   4.750000   17.373886  \n",
       "337  0.005605  82.175840    Marcus         Giles   1.390000   59.119310  \n",
       "766  0.009914  81.422089     Brian       Roberts   7.150000   11.387705  \n",
       "295  0.011342  80.954132     Chone       Figgins   4.750000   17.042975  \n",
       "468  0.030089  80.323583  D'Angelo       Jimenez   0.345000  232.821979  \n",
       "149  0.012872  79.579337     Jamey       Carroll   1.700000   46.811375  \n",
       "437  0.000987  78.572667   Orlando        Hudson   3.632438   21.630835  \n",
       "800  0.006231  76.630288     Marco       Scutaro   1.550000   49.438896  \n",
       "557 -0.014870  76.288744      Mark       Loretta   2.500000   30.515498  \n",
       "603  0.031144  76.018553      Mark      McLemore   1.219445   62.338648  \n",
       "73  -0.004953  75.042750     Craig        Biggio   4.000000   18.760688  \n",
       "261 -0.002966  74.046396       Ray        Durham   5.750000   12.877634  \n",
       "911 -0.017459  73.645928      Todd        Walker   0.750000   98.194571  \n",
       "611  0.046071  73.581041     Frank     Menechino   0.314750  233.776144  \n",
       "959 -0.006838  72.777433      Eric         Young   1.562500   46.577557  \n",
       "56  -0.005611  72.682057    Ronnie      Belliard   0.962500   75.513826  \n",
       "27  -0.041313  72.186558    Carlos        Baerga   1.000000   72.186558  \n",
       "715 -0.034947  71.521638   Placido       Polanco   4.600000   15.548182  \n",
       "194  0.020414  69.695472     Craig      Counsell   1.516667   45.953048  \n",
       "707 -0.031374  69.194752   Brandon      Phillips   6.062500   11.413567  \n",
       "821 -0.033819  68.815408   Alfonso       Soriano  10.000000    6.881541  \n",
       "903 -0.034398  68.366650  Fernando          Vina   2.000000   34.183325  \n",
       "446 -0.028891  68.063768      Omar       Infante   1.400000   48.616977  \n",
       "641  0.002613  67.873486    Warren        Morris   0.275000  246.812678  \n",
       "784 -0.049423  67.023487    Freddy       Sanchez   4.150000   16.150238  \n",
       "126 -0.061316  66.901691     Homer          Bush   1.450000   46.139097  \n",
       "87  -0.021668  64.966846      Bret         Boone   2.900000   22.402361  \n",
       "264 -0.010062  64.337187    Damion        Easley   0.750000   85.782916  \n",
       "14  -0.026193  61.965795    Marlon      Anderson   0.600000  103.276326  \n",
       "269 -0.019756  61.122120      Mark         Ellis   3.500000   17.463463  \n",
       "498 -0.034932  59.987880      Adam       Kennedy   1.250000   47.990304  \n",
       "948 -0.039197  59.711876      Tony        Womack   2.000000   29.855938  \n",
       "726  0.003850  59.668936      Nick         Punto   1.125000   53.039054  \n",
       "372 -0.049176  59.647739      Mark  Grudzielanek   2.500000   23.859096  \n",
       "598 -0.028811  58.106997       Joe       McEwing   0.500000  116.213994  \n",
       "762 -0.033305  57.855965      Luis         Rivas   0.432500  133.771017  \n",
       "568 -0.036026  57.445218      Jose        Macias   0.750000   76.593624  \n",
       "746 -0.035758  56.071645     Pokey         Reese   1.000000   56.071645  \n",
       "136 -0.050010  48.569775    Miguel         Cairo   0.850000   57.140912  \n",
       "383 -0.021176  43.728432     Jerry      Hairston   1.800000   24.293573  "
      ]
     },
     "execution_count": 259,
     "metadata": {},
     "output_type": "execute_result"
    }
   ],
   "source": [
    "TWOB.sort_values(['OPW','OPW/SALARY'],ascending = [0,0])"
   ]
  },
  {
   "cell_type": "code",
   "execution_count": 265,
   "metadata": {
    "collapsed": false
   },
   "outputs": [],
   "source": [
    "dream_team = sub_playerLS.loc[[966,475,828,274,611,236,872,922,582,81],:]"
   ]
  },
  {
   "cell_type": "code",
   "execution_count": 266,
   "metadata": {
    "collapsed": false
   },
   "outputs": [
    {
     "data": {
      "text/html": [
       "<div>\n",
       "<table border=\"1\" class=\"dataframe\">\n",
       "  <thead>\n",
       "    <tr style=\"text-align: right;\">\n",
       "      <th></th>\n",
       "      <th>playerID</th>\n",
       "      <th>POS</th>\n",
       "      <th>minYear</th>\n",
       "      <th>maxYear</th>\n",
       "      <th>1B</th>\n",
       "      <th>2B</th>\n",
       "      <th>3B</th>\n",
       "      <th>HR</th>\n",
       "      <th>BB</th>\n",
       "      <th>OPW</th>\n",
       "      <th>nameFirst</th>\n",
       "      <th>nameLast</th>\n",
       "      <th>salary</th>\n",
       "      <th>OPW/SALARY</th>\n",
       "    </tr>\n",
       "  </thead>\n",
       "  <tbody>\n",
       "    <tr>\n",
       "      <th>966</th>\n",
       "      <td>zaungr01</td>\n",
       "      <td>C</td>\n",
       "      <td>1995</td>\n",
       "      <td>2010</td>\n",
       "      <td>-0.008357</td>\n",
       "      <td>-0.016634</td>\n",
       "      <td>-0.003284</td>\n",
       "      <td>-0.010903</td>\n",
       "      <td>0.052494</td>\n",
       "      <td>82.532772</td>\n",
       "      <td>Gregg</td>\n",
       "      <td>Zaun</td>\n",
       "      <td>1.000000</td>\n",
       "      <td>82.532772</td>\n",
       "    </tr>\n",
       "    <tr>\n",
       "      <th>475</th>\n",
       "      <td>johnsni01</td>\n",
       "      <td>1B</td>\n",
       "      <td>2001</td>\n",
       "      <td>2012</td>\n",
       "      <td>-0.030406</td>\n",
       "      <td>0.018102</td>\n",
       "      <td>-0.002523</td>\n",
       "      <td>-0.000333</td>\n",
       "      <td>0.072075</td>\n",
       "      <td>107.537577</td>\n",
       "      <td>Nick</td>\n",
       "      <td>Johnson</td>\n",
       "      <td>1.450000</td>\n",
       "      <td>74.163846</td>\n",
       "    </tr>\n",
       "    <tr>\n",
       "      <th>828</th>\n",
       "      <td>spiveju01</td>\n",
       "      <td>2B</td>\n",
       "      <td>2001</td>\n",
       "      <td>2005</td>\n",
       "      <td>0.015970</td>\n",
       "      <td>0.005593</td>\n",
       "      <td>0.005126</td>\n",
       "      <td>-0.008065</td>\n",
       "      <td>0.008046</td>\n",
       "      <td>95.189726</td>\n",
       "      <td>Junior</td>\n",
       "      <td>Spivey</td>\n",
       "      <td>0.816000</td>\n",
       "      <td>116.654075</td>\n",
       "    </tr>\n",
       "    <tr>\n",
       "      <th>274</th>\n",
       "      <td>ensbemo01</td>\n",
       "      <td>3B</td>\n",
       "      <td>2000</td>\n",
       "      <td>2008</td>\n",
       "      <td>-0.033243</td>\n",
       "      <td>-0.003037</td>\n",
       "      <td>-0.000346</td>\n",
       "      <td>0.026321</td>\n",
       "      <td>0.047626</td>\n",
       "      <td>108.584662</td>\n",
       "      <td>Morgan</td>\n",
       "      <td>Ensberg</td>\n",
       "      <td>0.450000</td>\n",
       "      <td>241.299249</td>\n",
       "    </tr>\n",
       "    <tr>\n",
       "      <th>611</th>\n",
       "      <td>menecfr01</td>\n",
       "      <td>2B</td>\n",
       "      <td>1999</td>\n",
       "      <td>2005</td>\n",
       "      <td>-0.021680</td>\n",
       "      <td>-0.011214</td>\n",
       "      <td>-0.001739</td>\n",
       "      <td>-0.014485</td>\n",
       "      <td>0.046071</td>\n",
       "      <td>73.581041</td>\n",
       "      <td>Frank</td>\n",
       "      <td>Menechino</td>\n",
       "      <td>0.314750</td>\n",
       "      <td>233.776144</td>\n",
       "    </tr>\n",
       "    <tr>\n",
       "      <th>236</th>\n",
       "      <td>delluda01</td>\n",
       "      <td>LF</td>\n",
       "      <td>1997</td>\n",
       "      <td>2009</td>\n",
       "      <td>-0.050673</td>\n",
       "      <td>-0.018869</td>\n",
       "      <td>0.004528</td>\n",
       "      <td>0.024153</td>\n",
       "      <td>0.057238</td>\n",
       "      <td>100.483979</td>\n",
       "      <td>David</td>\n",
       "      <td>Dellucci</td>\n",
       "      <td>0.812500</td>\n",
       "      <td>123.672590</td>\n",
       "    </tr>\n",
       "    <tr>\n",
       "      <th>872</th>\n",
       "      <td>torrean02</td>\n",
       "      <td>CF</td>\n",
       "      <td>2002</td>\n",
       "      <td>2013</td>\n",
       "      <td>-0.038587</td>\n",
       "      <td>0.025363</td>\n",
       "      <td>0.009017</td>\n",
       "      <td>-0.003139</td>\n",
       "      <td>0.006371</td>\n",
       "      <td>83.881250</td>\n",
       "      <td>Andres</td>\n",
       "      <td>Torres</td>\n",
       "      <td>1.500000</td>\n",
       "      <td>55.920833</td>\n",
       "    </tr>\n",
       "    <tr>\n",
       "      <th>922</th>\n",
       "      <td>werthja01</td>\n",
       "      <td>RF</td>\n",
       "      <td>2002</td>\n",
       "      <td>2013</td>\n",
       "      <td>-0.015169</td>\n",
       "      <td>-0.000742</td>\n",
       "      <td>-0.003539</td>\n",
       "      <td>0.012239</td>\n",
       "      <td>0.032909</td>\n",
       "      <td>95.991832</td>\n",
       "      <td>Jayson</td>\n",
       "      <td>Werth</td>\n",
       "      <td>1.700000</td>\n",
       "      <td>56.465784</td>\n",
       "    </tr>\n",
       "    <tr>\n",
       "      <th>582</th>\n",
       "      <td>martied01</td>\n",
       "      <td>DH</td>\n",
       "      <td>1987</td>\n",
       "      <td>2004</td>\n",
       "      <td>0.000910</td>\n",
       "      <td>0.011751</td>\n",
       "      <td>-0.003912</td>\n",
       "      <td>0.004922</td>\n",
       "      <td>0.052827</td>\n",
       "      <td>113.934171</td>\n",
       "      <td>Edgar</td>\n",
       "      <td>Martinez</td>\n",
       "      <td>3.500000</td>\n",
       "      <td>32.552620</td>\n",
       "    </tr>\n",
       "    <tr>\n",
       "      <th>81</th>\n",
       "      <td>bondsba01</td>\n",
       "      <td>OF</td>\n",
       "      <td>1986</td>\n",
       "      <td>2007</td>\n",
       "      <td>-0.045184</td>\n",
       "      <td>0.001342</td>\n",
       "      <td>0.001377</td>\n",
       "      <td>0.030717</td>\n",
       "      <td>0.112071</td>\n",
       "      <td>143.101202</td>\n",
       "      <td>Barry</td>\n",
       "      <td>Bonds</td>\n",
       "      <td>8.541667</td>\n",
       "      <td>16.753311</td>\n",
       "    </tr>\n",
       "  </tbody>\n",
       "</table>\n",
       "</div>"
      ],
      "text/plain": [
       "      playerID POS  minYear  maxYear        1B        2B        3B        HR  \\\n",
       "966   zaungr01   C     1995     2010 -0.008357 -0.016634 -0.003284 -0.010903   \n",
       "475  johnsni01  1B     2001     2012 -0.030406  0.018102 -0.002523 -0.000333   \n",
       "828  spiveju01  2B     2001     2005  0.015970  0.005593  0.005126 -0.008065   \n",
       "274  ensbemo01  3B     2000     2008 -0.033243 -0.003037 -0.000346  0.026321   \n",
       "611  menecfr01  2B     1999     2005 -0.021680 -0.011214 -0.001739 -0.014485   \n",
       "236  delluda01  LF     1997     2009 -0.050673 -0.018869  0.004528  0.024153   \n",
       "872  torrean02  CF     2002     2013 -0.038587  0.025363  0.009017 -0.003139   \n",
       "922  werthja01  RF     2002     2013 -0.015169 -0.000742 -0.003539  0.012239   \n",
       "582  martied01  DH     1987     2004  0.000910  0.011751 -0.003912  0.004922   \n",
       "81   bondsba01  OF     1986     2007 -0.045184  0.001342  0.001377  0.030717   \n",
       "\n",
       "           BB         OPW nameFirst   nameLast    salary  OPW/SALARY  \n",
       "966  0.052494   82.532772     Gregg       Zaun  1.000000   82.532772  \n",
       "475  0.072075  107.537577      Nick    Johnson  1.450000   74.163846  \n",
       "828  0.008046   95.189726    Junior     Spivey  0.816000  116.654075  \n",
       "274  0.047626  108.584662    Morgan    Ensberg  0.450000  241.299249  \n",
       "611  0.046071   73.581041     Frank  Menechino  0.314750  233.776144  \n",
       "236  0.057238  100.483979     David   Dellucci  0.812500  123.672590  \n",
       "872  0.006371   83.881250    Andres     Torres  1.500000   55.920833  \n",
       "922  0.032909   95.991832    Jayson      Werth  1.700000   56.465784  \n",
       "582  0.052827  113.934171     Edgar   Martinez  3.500000   32.552620  \n",
       "81   0.112071  143.101202     Barry      Bonds  8.541667   16.753311  "
      ]
     },
     "execution_count": 266,
     "metadata": {},
     "output_type": "execute_result"
    }
   ],
   "source": [
    "dream_team"
   ]
  },
  {
   "cell_type": "code",
   "execution_count": 267,
   "metadata": {
    "collapsed": false
   },
   "outputs": [
    {
     "data": {
      "text/plain": [
       "20.084917"
      ]
     },
     "execution_count": 267,
     "metadata": {},
     "output_type": "execute_result"
    }
   ],
   "source": [
    "dream_team['salary'].sum()"
   ]
  },
  {
   "cell_type": "code",
   "execution_count": 268,
   "metadata": {
    "collapsed": false
   },
   "outputs": [
    {
     "data": {
      "text/plain": [
       "100.48182117710651"
      ]
     },
     "execution_count": 268,
     "metadata": {},
     "output_type": "execute_result"
    }
   ],
   "source": [
    "dream_team['OPW'].mean()"
   ]
  },
  {
   "cell_type": "code",
   "execution_count": null,
   "metadata": {
    "collapsed": true
   },
   "outputs": [],
   "source": []
  }
 ],
 "metadata": {
  "kernelspec": {
   "display_name": "Python [Root]",
   "language": "python",
   "name": "Python [Root]"
  },
  "language_info": {
   "codemirror_mode": {
    "name": "ipython",
    "version": 2
   },
   "file_extension": ".py",
   "mimetype": "text/x-python",
   "name": "python",
   "nbconvert_exporter": "python",
   "pygments_lexer": "ipython2",
   "version": "2.7.11"
  }
 },
 "nbformat": 4,
 "nbformat_minor": 0
}
